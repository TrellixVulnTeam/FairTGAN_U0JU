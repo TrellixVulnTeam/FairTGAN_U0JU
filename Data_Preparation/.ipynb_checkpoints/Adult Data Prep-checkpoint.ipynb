{
 "cells": [
  {
   "cell_type": "markdown",
   "metadata": {},
   "source": [
    "## Imports"
   ]
  },
  {
   "cell_type": "code",
   "execution_count": 1,
   "metadata": {},
   "outputs": [],
   "source": [
    "import csv\n",
    "import pandas as pd"
   ]
  },
  {
   "cell_type": "markdown",
   "metadata": {},
   "source": [
    "## CSV file generator method"
   ]
  },
  {
   "cell_type": "code",
   "execution_count": 2,
   "metadata": {},
   "outputs": [],
   "source": [
    "def data_csv_generator(file_names, output_file_name):   \n",
    "    csvDataFile = open(output_file_name, 'w', newline='')\n",
    "    writer = csv.writer(csvDataFile)\n",
    "    \n",
    "    csvData = []\n",
    "    \n",
    "    for file in file_names:\n",
    "        for line in open(file):\n",
    "            line = line.split(', ')\n",
    "            \n",
    "            if '?' not in line: \n",
    "                \n",
    "                for i in [0,2,4,10,11,12]:\n",
    "                    line[i] = int(line[i])\n",
    "                \n",
    "                if line[-1][-2] == '.':\n",
    "                    line[-1] = line[-1][0:-2]\n",
    "                else:\n",
    "                    line[-1] = line[-1][0:-1]\n",
    "                            \n",
    "                    \n",
    "                csvData.append(line)\n",
    "\n",
    "    writer.writerows(csvData)\n",
    "    csvDataFile.close()\n",
    "    return pd.DataFrame.from_records(csvData)"
   ]
  },
  {
   "cell_type": "markdown",
   "metadata": {},
   "source": [
    "## Creating data files in directories"
   ]
  },
  {
   "cell_type": "markdown",
   "metadata": {},
   "source": [
    "### Local"
   ]
  },
  {
   "cell_type": "code",
   "execution_count": 3,
   "metadata": {},
   "outputs": [],
   "source": [
    "all_toFile = data_csv_generator(['adult.data', 'adult.test'], 'adult_data.csv')"
   ]
  },
  {
   "cell_type": "code",
   "execution_count": 4,
   "metadata": {},
   "outputs": [],
   "source": [
    "train_toFile = data_csv_generator(['adult.data'], 'adult_train.csv')"
   ]
  },
  {
   "cell_type": "code",
   "execution_count": 5,
   "metadata": {},
   "outputs": [],
   "source": [
    "test_toFile = data_csv_generator(['adult.test'], 'adult_test.csv')"
   ]
  },
  {
   "cell_type": "markdown",
   "metadata": {},
   "source": [
    "### Base TGAN"
   ]
  },
  {
   "cell_type": "code",
   "execution_count": 6,
   "metadata": {},
   "outputs": [],
   "source": [
    "all_toFile.to_csv(r'..\\TGAN-Master\\Base TGAN\\examples\\data\\adult_data.csv', index=False, header=False)"
   ]
  },
  {
   "cell_type": "code",
   "execution_count": 7,
   "metadata": {},
   "outputs": [],
   "source": [
    "train_toFile.to_csv(r'..\\TGAN-Master\\Base TGAN\\examples\\data\\adult_train.csv', index=False, header=False)"
   ]
  },
  {
   "cell_type": "code",
   "execution_count": 8,
   "metadata": {},
   "outputs": [],
   "source": [
    "test_toFile.to_csv(r'..\\TGAN-Master\\Base TGAN\\examples\\data\\adult_test.csv', index=False, header=False)"
   ]
  },
  {
   "cell_type": "markdown",
   "metadata": {},
   "source": [
    "### Fair TGAN"
   ]
  },
  {
   "cell_type": "code",
   "execution_count": 9,
   "metadata": {},
   "outputs": [],
   "source": [
    "all_toFile.to_csv(r'..\\TGAN-Master\\Fair TGAN\\examples\\data\\adult_data.csv', index=False, header=False)"
   ]
  },
  {
   "cell_type": "code",
   "execution_count": 10,
   "metadata": {},
   "outputs": [],
   "source": [
    "train_toFile.to_csv(r'..\\TGAN-Master\\Fair TGAN\\examples\\data\\adult_train.csv', index=False, header=False)"
   ]
  },
  {
   "cell_type": "code",
   "execution_count": 11,
   "metadata": {},
   "outputs": [],
   "source": [
    "test_toFile.to_csv(r'..\\TGAN-Master\\Fair TGAN\\examples\\data\\adult_test.csv', index=False, header=False)"
   ]
  },
  {
   "cell_type": "markdown",
   "metadata": {},
   "source": [
    "### Machine Learning Experiments"
   ]
  },
  {
   "cell_type": "code",
   "execution_count": 12,
   "metadata": {},
   "outputs": [],
   "source": [
    "all_toFile.to_csv(r'..\\ML and Fairness Experiments\\Datasets\\adult_data.csv', index=False, header=False)"
   ]
  },
  {
   "cell_type": "code",
   "execution_count": 13,
   "metadata": {},
   "outputs": [],
   "source": [
    "train_toFile.to_csv(r'..\\ML and Fairness Experiments\\Datasets\\adult_train.csv', index=False, header=False)"
   ]
  },
  {
   "cell_type": "code",
   "execution_count": 14,
   "metadata": {},
   "outputs": [],
   "source": [
    "test_toFile.to_csv(r'..\\ML and Fairness Experiments\\Datasets\\adult_test.csv', index=False, header=False)"
   ]
  }
 ],
 "metadata": {
  "kernelspec": {
   "display_name": "Python 3",
   "language": "python",
   "name": "python3"
  },
  "language_info": {
   "codemirror_mode": {
    "name": "ipython",
    "version": 3
   },
   "file_extension": ".py",
   "mimetype": "text/x-python",
   "name": "python",
   "nbconvert_exporter": "python",
   "pygments_lexer": "ipython3",
   "version": "3.7.3"
  }
 },
 "nbformat": 4,
 "nbformat_minor": 2
}
