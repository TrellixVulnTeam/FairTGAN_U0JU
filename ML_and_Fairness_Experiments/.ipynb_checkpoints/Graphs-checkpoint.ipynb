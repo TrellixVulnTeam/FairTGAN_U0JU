{
 "cells": [
  {
   "cell_type": "markdown",
   "metadata": {},
   "source": [
    "## Imports"
   ]
  },
  {
   "cell_type": "code",
   "execution_count": 1,
   "metadata": {},
   "outputs": [
    {
     "name": "stderr",
     "output_type": "stream",
     "text": [
      "C:\\Users\\kyria\\Miniconda3\\envs\\py3iaml\\lib\\site-packages\\sklearn\\utils\\__init__.py:4: DeprecationWarning: Using or importing the ABCs from 'collections' instead of from 'collections.abc' is deprecated, and in 3.8 it will stop working\n",
      "  from collections import Sequence\n",
      "C:\\Users\\kyria\\Miniconda3\\envs\\py3iaml\\lib\\site-packages\\sklearn\\ensemble\\weight_boosting.py:29: DeprecationWarning: numpy.core.umath_tests is an internal NumPy module and should not be imported. It will be removed in a future NumPy release.\n",
      "  from numpy.core.umath_tests import inner1d\n"
     ]
    }
   ],
   "source": [
    "# Import packages\n",
    "import os\n",
    "import random\n",
    "import numpy as np \n",
    "import pandas as pd\n",
    "import matplotlib.pyplot as plt\n",
    "import seaborn as sns\n",
    "from sklearn.naive_bayes import GaussianNB, MultinomialNB\n",
    "from sklearn.metrics import accuracy_score, confusion_matrix, normalized_mutual_info_score\n",
    "from sklearn.linear_model import LogisticRegression\n",
    "from sklearn.neural_network import MLPClassifier\n",
    "from sklearn.preprocessing import scale, normalize\n",
    "from sklearn.model_selection import train_test_split, KFold, cross_val_predict, cross_validate, cross_val_score\n",
    "from sklearn.ensemble import RandomForestClassifier\n",
    "from sklearn.tree import DecisionTreeClassifier\n",
    "from sklearn.svm import SVC\n",
    "%matplotlib qt"
   ]
  },
  {
   "cell_type": "markdown",
   "metadata": {},
   "source": [
    "## Loading Datasets"
   ]
  },
  {
   "cell_type": "code",
   "execution_count": 123,
   "metadata": {},
   "outputs": [],
   "source": [
    "adult_train_path = os.path.join(os.getcwd(), 'Datasets', 'adult_train.csv') \n",
    "adult_test_path = os.path.join(os.getcwd(), 'Datasets', 'adult_test.csv')\n",
    "fair_tgan_adult_path = os.path.join(os.getcwd(), 'Datasets', 'fair_tgan_adult_data_18_small.csv')\n",
    "base_tgan_adult_path = os.path.join(os.getcwd(), 'Datasets', 'base_tgan_adult_data_2_small.csv')\n",
    "column_names = ['age', 'workclass', 'fnlwgt', 'education', 'education_num', 'marital_status', 'occupation', 'relationship', 'race', 'sex', 'capital_gain', 'capital_loss', 'hours_per_week', 'native_country', 'Income']"
   ]
  },
  {
   "cell_type": "code",
   "execution_count": null,
   "metadata": {},
   "outputs": [],
   "source": [
    "%matplotlib qt"
   ]
  },
  {
   "cell_type": "code",
   "execution_count": 124,
   "metadata": {},
   "outputs": [],
   "source": [
    "def prep_data(path, columns):\n",
    "\n",
    "    data = []\n",
    "\n",
    "    for line in open(path):\n",
    "        line = line.split(',')\n",
    "\n",
    "        if line[13] != 'United-States':\n",
    "            line[13] = 'Non-US'\n",
    "        else:\n",
    "            line[13] = 'US'\n",
    "\n",
    "        if line[3] in ['Preschool', '1st-4th', '5th-6th', '7th-8th']:\n",
    "            line[3] = 'prim-middle-school'\n",
    "        elif line[3] in ['9th', '10th', '11th', '12th']:\n",
    "            line[3] = \"high-school\"\n",
    "\n",
    "        line[-1] = line[-1][:-1]\n",
    "\n",
    "        to_int = lambda a : int(line[a])\n",
    "        for i in [0,2,4,10,11,12]:\n",
    "            line[i] = to_int(i)\n",
    "\n",
    "        data.append(line)\n",
    "        \n",
    "    return pd.DataFrame(data, columns=column_names)"
   ]
  },
  {
   "cell_type": "code",
   "execution_count": 125,
   "metadata": {},
   "outputs": [],
   "source": [
    "adult_train_data = prep_data(adult_train_path, columns=column_names)\n",
    "adult_test_data = prep_data(adult_test_path, columns=column_names)\n",
    "fair_tgan_adult_data = prep_data(fair_tgan_adult_path, columns=column_names)\n",
    "base_tgan_adult_data = prep_data(base_tgan_adult_path, columns=column_names)"
   ]
  },
  {
   "cell_type": "markdown",
   "metadata": {},
   "source": [
    "## Crosstabulation on Original Dataset"
   ]
  },
  {
   "cell_type": "code",
   "execution_count": 36,
   "metadata": {},
   "outputs": [],
   "source": [
    "train_f_pos = 0\n",
    "train_f_neg = 0\n",
    "train_m_pos = 0\n",
    "train_m_neg = 0\n",
    "\n",
    "test_f_pos = 0\n",
    "test_f_neg = 0\n",
    "test_m_pos = 0\n",
    "test_m_neg = 0\n",
    "\n",
    "\n",
    "for i in range(30162):\n",
    "    if adult_train_data['sex'][i] == 'Female':\n",
    "        if adult_train_data['Income'][i] == '>50K':\n",
    "            train_f_pos += 1\n",
    "        else: train_f_neg += 1\n",
    "    else:\n",
    "        if adult_train_data['Income'][i] == '>50K':\n",
    "            train_m_pos += 1\n",
    "        else: train_m_neg += 1\n",
    "    \n",
    "for i in range(adult_test_data.shape[0]):\n",
    "    if adult_test_data['sex'][i] == 'Female':\n",
    "        if adult_test_data['Income'][i] == '>50K':\n",
    "            test_f_pos += 1\n",
    "        else: test_f_neg += 1\n",
    "    else:\n",
    "        if adult_test_data['Income'][i] == '>50K':\n",
    "            test_m_pos += 1\n",
    "        else: test_m_neg += 1"
   ]
  },
  {
   "cell_type": "code",
   "execution_count": 45,
   "metadata": {
    "scrolled": true
   },
   "outputs": [],
   "source": [
    "pd.crosstab(adult_train_data['sex'], adult_train_data['Income']).plot(kind='bar')\n",
    "plt.title('Income class per sex in training data')\n",
    "plt.xlabel('Sex')\n",
    "plt.ylabel('Income')\n",
    "x = [-0.25,0.75]\n",
    "for a,b in zip(x, [train_f_neg, train_m_neg]):\n",
    "    plt.text(a, b+100, str(b), {'color':  'blue', 'size': 14})\n",
    "x = [0.03, 1.03]\n",
    "for a,b in zip(x, [train_f_pos, train_m_pos]):\n",
    "    plt.text(a, b+100, str(b), {'color':  'orange', 'size': 14})"
   ]
  },
  {
   "cell_type": "code",
   "execution_count": 48,
   "metadata": {},
   "outputs": [],
   "source": [
    "pd.crosstab(adult_test_data['sex'], adult_test_data['Income']).plot(kind='bar')\n",
    "plt.title('Income class per sex in test data')\n",
    "plt.xlabel('Sex')\n",
    "plt.ylabel('Income')\n",
    "x = [-0.23,0.77]\n",
    "for a,b in zip(x, [test_f_neg, test_m_neg]):\n",
    "    plt.text(a, b+100, str(b), {'color':  'blue', 'size': 14})\n",
    "x = [0.05, 1.05]\n",
    "for a,b in zip(x, [test_f_pos, test_m_pos]):\n",
    "    plt.text(a, b+100, str(b), {'color':  'orange', 'size': 14})"
   ]
  },
  {
   "cell_type": "markdown",
   "metadata": {},
   "source": [
    "## Sensitive attribute and output label distributions"
   ]
  },
  {
   "cell_type": "code",
   "execution_count": 5,
   "metadata": {},
   "outputs": [],
   "source": [
    "idx = random.sample(range(0, 40000), 30162)"
   ]
  },
  {
   "cell_type": "code",
   "execution_count": 126,
   "metadata": {},
   "outputs": [],
   "source": [
    "df_sex = pd.DataFrame()\n",
    "df_sex['sex'] = pd.concat([adult_train_data['sex'], base_tgan_adult_data['sex'].iloc[idx], fair_tgan_adult_data['sex'].iloc[idx]], axis=0)"
   ]
  },
  {
   "cell_type": "code",
   "execution_count": 127,
   "metadata": {},
   "outputs": [],
   "source": [
    "df_income = pd.DataFrame()\n",
    "df_income['Income'] = pd.concat([adult_train_data['Income'], base_tgan_adult_data['Income'].iloc[idx], fair_tgan_adult_data['Income'].iloc[idx]], axis=0)"
   ]
  },
  {
   "cell_type": "code",
   "execution_count": 128,
   "metadata": {},
   "outputs": [],
   "source": [
    "# adult_train = np.repeat('Original Data', adult_train_data.shape[0])\n",
    "adult_train = np.repeat('Original', adult_train_data.shape[0])\n",
    "# base_tgan = np.repeat('Base TGAN Data', base_tgan_adult_data.shape[0])\n",
    "base_tgan = np.repeat('Base TGAN Model', 30162)\n",
    "# fair_tgan = np.repeat('Fair TGAN Data', fair_tgan_adult_data.shape[0])\n",
    "fair_tgan = np.repeat('Fair TGAN Model 6', 30162)\n",
    "data_tags = np.concatenate((adult_train, base_tgan), axis=0)\n",
    "data_tags = np.concatenate((data_tags, fair_tgan), axis=0)"
   ]
  },
  {
   "cell_type": "code",
   "execution_count": 129,
   "metadata": {},
   "outputs": [],
   "source": [
    "df_sex['Data'] = data_tags\n",
    "df_income['Data'] = data_tags"
   ]
  },
  {
   "cell_type": "code",
   "execution_count": 130,
   "metadata": {},
   "outputs": [],
   "source": [
    "f_or = 0\n",
    "f_base = 0\n",
    "f_fair = 0\n",
    "m_or = 0\n",
    "m_base = 0\n",
    "m_fair = 0\n",
    "pos_or = 0\n",
    "pos_base = 0\n",
    "pos_fair = 0\n",
    "neg_or = 0\n",
    "neg_base = 0\n",
    "neg_fair = 0\n",
    "\n",
    "for i in range(30162):\n",
    "    if adult_train_data['sex'][i] == 'Female':\n",
    "        f_or += 1\n",
    "    else: m_or += 1\n",
    "    if adult_train_data['Income'][i]  == '>50K':\n",
    "        pos_or += 1\n",
    "    else: neg_or += 1\n",
    "        \n",
    "    if base_tgan_adult_data['sex'][i]  == 'Female':\n",
    "        f_base += 1\n",
    "    else: m_base += 1\n",
    "    if base_tgan_adult_data['Income'][i]  == '>50K':\n",
    "        pos_base += 1\n",
    "    else: neg_base += 1\n",
    "        \n",
    "    if fair_tgan_adult_data['sex'][i]  == 'Female':\n",
    "        f_fair += 1\n",
    "    else: m_fair += 1\n",
    "    if fair_tgan_adult_data['Income'][i]  == '>50K':\n",
    "        pos_fair += 1\n",
    "    else: neg_fair += 1"
   ]
  },
  {
   "cell_type": "code",
   "execution_count": 131,
   "metadata": {},
   "outputs": [],
   "source": [
    "pd.crosstab(df_sex['sex'], df_sex['Data']).plot(kind='bar')\n",
    "plt.title('Sex attribute distribution between datasets')\n",
    "plt.xticks([0,1],['Female','Male'], rotation=360)\n",
    "plt.xlabel('Sex')\n",
    "plt.ylabel('Count')\n",
    "x = [-0.3,0.7]\n",
    "for a,b in zip(x, [f_base, m_base]):\n",
    "    plt.text(a, b+200, str(b), {'color':  'blue', 'size': 12})\n",
    "x = [-0.085,0.89]\n",
    "for a,b in zip(x, [f_fair, m_fair]):\n",
    "    if b == m_fair:\n",
    "        plt.text(a, m_or+200, str(b), {'color':  'darkorange', 'size': 12})\n",
    "    else:\n",
    "        plt.text(a, b+200, str(b), {'color':  'orange', 'size': 12})\n",
    "x = [0.1,1.10]\n",
    "for a,b in zip(x, [f_or, m_or]):\n",
    "    plt.text(a, b+200, str(b), {'color':  'green', 'size': 12})\n",
    "plt.show()"
   ]
  },
  {
   "cell_type": "code",
   "execution_count": 133,
   "metadata": {},
   "outputs": [],
   "source": [
    "plt.clf\n",
    "pd.crosstab(df_income['Income'], df_income['Data']).plot(kind='bar')\n",
    "plt.title('Output label distribution between datasets')\n",
    "plt.xticks([0,1],['<=50K','>50K'], rotation=360)\n",
    "plt.xlabel('Income')\n",
    "plt.ylabel('Count')\n",
    "x = [-0.32,0.72]\n",
    "for a,b in zip(x, [neg_base, pos_base]):\n",
    "    plt.text(a, b+200, str(b), {'color':  'blue', 'size': 12})\n",
    "x = [-0.11,0.92]\n",
    "for a,b in zip(x, [neg_fair, pos_fair]):\n",
    "    if b == neg_fair:\n",
    "        plt.text(a, neg_or+200, str(b), {'color':  'orange', 'size': 12})\n",
    "    else:\n",
    "        plt.text(a, b+200, str(b), {'color':  'orange', 'size': 12})\n",
    "#     plt.text(a, b+200, str(b), {'color':  'orange', 'size': 12})\n",
    "x = [0.1,1.10]\n",
    "for a,b in zip(x, [neg_or, pos_or]):\n",
    "    plt.text(a, b+200, str(b), {'color':  'green', 'size': 12})\n",
    "plt.show()"
   ]
  },
  {
   "cell_type": "markdown",
   "metadata": {},
   "source": [
    "## Correlation Matrices"
   ]
  },
  {
   "cell_type": "code",
   "execution_count": 78,
   "metadata": {},
   "outputs": [],
   "source": [
    "def corr_matrix(data):\n",
    "    plt.clf()\n",
    "    corr = data.corr()\n",
    "    ax = sns.heatmap(\n",
    "        corr, \n",
    "        vmin=-1, vmax=1, center=0,\n",
    "        cmap=sns.diverging_palette(20, 220, n=200),\n",
    "        square=True\n",
    "    )\n",
    "    ax.set_xticklabels(\n",
    "        ax.get_xticklabels(),\n",
    "        rotation=45,\n",
    "        horizontalalignment='right'\n",
    "    );\n",
    "    plt.show()"
   ]
  },
  {
   "cell_type": "code",
   "execution_count": 64,
   "metadata": {},
   "outputs": [],
   "source": [
    "corr_matrix(adult_train_data)"
   ]
  },
  {
   "cell_type": "code",
   "execution_count": 65,
   "metadata": {},
   "outputs": [],
   "source": [
    "corr_matrix(adult_test_data)"
   ]
  },
  {
   "cell_type": "code",
   "execution_count": 73,
   "metadata": {},
   "outputs": [],
   "source": [
    "corr_matrix(base_tgan_adult_data)"
   ]
  },
  {
   "cell_type": "code",
   "execution_count": 79,
   "metadata": {},
   "outputs": [],
   "source": [
    "corr_matrix(fair_tgan_adult_data)"
   ]
  }
 ],
 "metadata": {
  "kernelspec": {
   "display_name": "Python 3",
   "language": "python",
   "name": "python3"
  },
  "language_info": {
   "codemirror_mode": {
    "name": "ipython",
    "version": 3
   },
   "file_extension": ".py",
   "mimetype": "text/x-python",
   "name": "python",
   "nbconvert_exporter": "python",
   "pygments_lexer": "ipython3",
   "version": "3.7.3"
  }
 },
 "nbformat": 4,
 "nbformat_minor": 2
}
