{
 "cells": [
  {
   "cell_type": "markdown",
   "metadata": {},
   "source": [
    "## Imports"
   ]
  },
  {
   "cell_type": "code",
   "execution_count": 1,
   "metadata": {},
   "outputs": [
    {
     "name": "stderr",
     "output_type": "stream",
     "text": [
      "C:\\Users\\kyria\\Miniconda3\\envs\\py3iaml\\lib\\site-packages\\sklearn\\utils\\__init__.py:4: DeprecationWarning: Using or importing the ABCs from 'collections' instead of from 'collections.abc' is deprecated, and in 3.8 it will stop working\n",
      "  from collections import Sequence\n",
      "C:\\Users\\kyria\\Miniconda3\\envs\\py3iaml\\lib\\site-packages\\sklearn\\ensemble\\weight_boosting.py:29: DeprecationWarning: numpy.core.umath_tests is an internal NumPy module and should not be imported. It will be removed in a future NumPy release.\n",
      "  from numpy.core.umath_tests import inner1d\n"
     ]
    }
   ],
   "source": [
    "# Import packages\n",
    "import os\n",
    "import numpy as np \n",
    "import pandas as pd\n",
    "import matplotlib.pyplot as plt\n",
    "import seaborn as sns\n",
    "from sklearn.naive_bayes import GaussianNB, MultinomialNB\n",
    "from sklearn.metrics import accuracy_score, confusion_matrix, normalized_mutual_info_score\n",
    "from sklearn.linear_model import LogisticRegression\n",
    "from sklearn.neural_network import MLPClassifier\n",
    "from sklearn.preprocessing import scale, normalize\n",
    "from sklearn.model_selection import train_test_split, KFold, cross_val_predict, cross_validate, cross_val_score\n",
    "from sklearn.ensemble import RandomForestClassifier\n",
    "from sklearn.tree import DecisionTreeClassifier\n",
    "from sklearn.svm import SVC\n",
    "%matplotlib inline"
   ]
  },
  {
   "cell_type": "markdown",
   "metadata": {},
   "source": [
    "## Exploration and Preprocessing of the dataset"
   ]
  },
  {
   "cell_type": "code",
   "execution_count": 2,
   "metadata": {},
   "outputs": [],
   "source": [
    "fair_tgan_adult_path = os.path.join(os.getcwd(), 'Datasets', 'fair_tgan_adult_data_4.csv')\n",
    "adult_test_path = os.path.join(os.getcwd(), 'Datasets', 'adult_test.csv')\n",
    "column_names = ['age', 'workclass', 'fnlwgt', 'education', 'education_num', 'marital_status', 'occupation', 'relationship', 'race', 'sex', 'capital_gain', 'capital_loss', 'hours_per_week', 'native_country', 'Income']"
   ]
  },
  {
   "cell_type": "code",
   "execution_count": 3,
   "metadata": {},
   "outputs": [],
   "source": [
    "def prep_data(path, columns):\n",
    "\n",
    "    data = []\n",
    "\n",
    "    for line in open(path):\n",
    "        line = line.split(',')\n",
    "\n",
    "        if line[13] != 'United-States':\n",
    "            line[13] = 'Non-US'\n",
    "        else:\n",
    "            line[13] = 'US'\n",
    "\n",
    "        if line[3] in ['Preschool', '1st-4th', '5th-6th', '7th-8th']:\n",
    "            line[3] = 'prim-middle-school'\n",
    "        elif line[3] in ['9th', '10th', '11th', '12th']:\n",
    "            line[3] = \"high-school\"\n",
    "\n",
    "        line[-1] = line[-1][:-1]\n",
    "\n",
    "        to_int = lambda a : int(line[a])\n",
    "        for i in [0,2,4,10,11,12]:\n",
    "            line[i] = to_int(i)\n",
    "\n",
    "        data.append(line)\n",
    "        \n",
    "    return pd.DataFrame(data, columns=column_names)"
   ]
  },
  {
   "cell_type": "code",
   "execution_count": 4,
   "metadata": {},
   "outputs": [],
   "source": [
    "adult_train_data = prep_data(fair_tgan_adult_path, columns=column_names)\n",
    "adult_test_data = prep_data(adult_test_path, columns=column_names)"
   ]
  },
  {
   "cell_type": "code",
   "execution_count": 5,
   "metadata": {},
   "outputs": [
    {
     "name": "stdout",
     "output_type": "stream",
     "text": [
      "Adult train dataset info:\n",
      "<class 'pandas.core.frame.DataFrame'>\n",
      "RangeIndex: 40000 entries, 0 to 39999\n",
      "Data columns (total 15 columns):\n",
      "age               40000 non-null int64\n",
      "workclass         40000 non-null object\n",
      "fnlwgt            40000 non-null int64\n",
      "education         40000 non-null object\n",
      "education_num     40000 non-null int64\n",
      "marital_status    40000 non-null object\n",
      "occupation        40000 non-null object\n",
      "relationship      40000 non-null object\n",
      "race              40000 non-null object\n",
      "sex               40000 non-null object\n",
      "capital_gain      40000 non-null int64\n",
      "capital_loss      40000 non-null int64\n",
      "hours_per_week    40000 non-null int64\n",
      "native_country    40000 non-null object\n",
      "Income            40000 non-null object\n",
      "dtypes: int64(6), object(9)\n",
      "memory usage: 4.6+ MB\n"
     ]
    },
    {
     "data": {
      "text/plain": [
       "None"
      ]
     },
     "metadata": {},
     "output_type": "display_data"
    }
   ],
   "source": [
    "print('Adult train dataset info:')\n",
    "display(adult_train_data.info())"
   ]
  },
  {
   "cell_type": "code",
   "execution_count": 6,
   "metadata": {},
   "outputs": [
    {
     "name": "stdout",
     "output_type": "stream",
     "text": [
      "Adult test dataset info:\n",
      "<class 'pandas.core.frame.DataFrame'>\n",
      "RangeIndex: 15060 entries, 0 to 15059\n",
      "Data columns (total 15 columns):\n",
      "age               15060 non-null int64\n",
      "workclass         15060 non-null object\n",
      "fnlwgt            15060 non-null int64\n",
      "education         15060 non-null object\n",
      "education_num     15060 non-null int64\n",
      "marital_status    15060 non-null object\n",
      "occupation        15060 non-null object\n",
      "relationship      15060 non-null object\n",
      "race              15060 non-null object\n",
      "sex               15060 non-null object\n",
      "capital_gain      15060 non-null int64\n",
      "capital_loss      15060 non-null int64\n",
      "hours_per_week    15060 non-null int64\n",
      "native_country    15060 non-null object\n",
      "Income            15060 non-null object\n",
      "dtypes: int64(6), object(9)\n",
      "memory usage: 1.7+ MB\n"
     ]
    },
    {
     "data": {
      "text/plain": [
       "None"
      ]
     },
     "metadata": {},
     "output_type": "display_data"
    }
   ],
   "source": [
    "print('Adult test dataset info:')\n",
    "display(adult_test_data.info())"
   ]
  },
  {
   "cell_type": "code",
   "execution_count": 7,
   "metadata": {
    "scrolled": true
   },
   "outputs": [
    {
     "name": "stdout",
     "output_type": "stream",
     "text": [
      "Adult train dataset statistical information\n"
     ]
    },
    {
     "data": {
      "text/html": [
       "<div>\n",
       "<style scoped>\n",
       "    .dataframe tbody tr th:only-of-type {\n",
       "        vertical-align: middle;\n",
       "    }\n",
       "\n",
       "    .dataframe tbody tr th {\n",
       "        vertical-align: top;\n",
       "    }\n",
       "\n",
       "    .dataframe thead th {\n",
       "        text-align: right;\n",
       "    }\n",
       "</style>\n",
       "<table border=\"1\" class=\"dataframe\">\n",
       "  <thead>\n",
       "    <tr style=\"text-align: right;\">\n",
       "      <th></th>\n",
       "      <th>age</th>\n",
       "      <th>fnlwgt</th>\n",
       "      <th>education_num</th>\n",
       "      <th>capital_gain</th>\n",
       "      <th>capital_loss</th>\n",
       "      <th>hours_per_week</th>\n",
       "    </tr>\n",
       "  </thead>\n",
       "  <tbody>\n",
       "    <tr>\n",
       "      <th>count</th>\n",
       "      <td>40000.000000</td>\n",
       "      <td>40000.000000</td>\n",
       "      <td>40000.000000</td>\n",
       "      <td>40000.000000</td>\n",
       "      <td>40000.000000</td>\n",
       "      <td>40000.000000</td>\n",
       "    </tr>\n",
       "    <tr>\n",
       "      <th>mean</th>\n",
       "      <td>34.147025</td>\n",
       "      <td>154555.523700</td>\n",
       "      <td>11.102900</td>\n",
       "      <td>918.415275</td>\n",
       "      <td>22.954575</td>\n",
       "      <td>46.135525</td>\n",
       "    </tr>\n",
       "    <tr>\n",
       "      <th>std</th>\n",
       "      <td>12.367608</td>\n",
       "      <td>105318.906919</td>\n",
       "      <td>2.357223</td>\n",
       "      <td>3931.520418</td>\n",
       "      <td>196.570985</td>\n",
       "      <td>19.098048</td>\n",
       "    </tr>\n",
       "    <tr>\n",
       "      <th>min</th>\n",
       "      <td>16.000000</td>\n",
       "      <td>16150.000000</td>\n",
       "      <td>3.000000</td>\n",
       "      <td>0.000000</td>\n",
       "      <td>0.000000</td>\n",
       "      <td>6.000000</td>\n",
       "    </tr>\n",
       "    <tr>\n",
       "      <th>25%</th>\n",
       "      <td>25.000000</td>\n",
       "      <td>58218.750000</td>\n",
       "      <td>9.000000</td>\n",
       "      <td>0.000000</td>\n",
       "      <td>0.000000</td>\n",
       "      <td>40.000000</td>\n",
       "    </tr>\n",
       "    <tr>\n",
       "      <th>50%</th>\n",
       "      <td>34.000000</td>\n",
       "      <td>132595.500000</td>\n",
       "      <td>11.000000</td>\n",
       "      <td>0.000000</td>\n",
       "      <td>0.000000</td>\n",
       "      <td>40.000000</td>\n",
       "    </tr>\n",
       "    <tr>\n",
       "      <th>75%</th>\n",
       "      <td>42.000000</td>\n",
       "      <td>184063.500000</td>\n",
       "      <td>14.000000</td>\n",
       "      <td>0.000000</td>\n",
       "      <td>0.000000</td>\n",
       "      <td>54.000000</td>\n",
       "    </tr>\n",
       "    <tr>\n",
       "      <th>max</th>\n",
       "      <td>73.000000</td>\n",
       "      <td>438593.000000</td>\n",
       "      <td>16.000000</td>\n",
       "      <td>99999.000000</td>\n",
       "      <td>4259.000000</td>\n",
       "      <td>83.000000</td>\n",
       "    </tr>\n",
       "  </tbody>\n",
       "</table>\n",
       "</div>"
      ],
      "text/plain": [
       "                age         fnlwgt  education_num  capital_gain  capital_loss  \\\n",
       "count  40000.000000   40000.000000   40000.000000  40000.000000  40000.000000   \n",
       "mean      34.147025  154555.523700      11.102900    918.415275     22.954575   \n",
       "std       12.367608  105318.906919       2.357223   3931.520418    196.570985   \n",
       "min       16.000000   16150.000000       3.000000      0.000000      0.000000   \n",
       "25%       25.000000   58218.750000       9.000000      0.000000      0.000000   \n",
       "50%       34.000000  132595.500000      11.000000      0.000000      0.000000   \n",
       "75%       42.000000  184063.500000      14.000000      0.000000      0.000000   \n",
       "max       73.000000  438593.000000      16.000000  99999.000000   4259.000000   \n",
       "\n",
       "       hours_per_week  \n",
       "count    40000.000000  \n",
       "mean        46.135525  \n",
       "std         19.098048  \n",
       "min          6.000000  \n",
       "25%         40.000000  \n",
       "50%         40.000000  \n",
       "75%         54.000000  \n",
       "max         83.000000  "
      ]
     },
     "metadata": {},
     "output_type": "display_data"
    }
   ],
   "source": [
    "print('Adult train dataset statistical information')\n",
    "display(adult_train_data.describe())"
   ]
  },
  {
   "cell_type": "code",
   "execution_count": 8,
   "metadata": {},
   "outputs": [
    {
     "name": "stdout",
     "output_type": "stream",
     "text": [
      "Adult test dataset statistical information\n"
     ]
    },
    {
     "data": {
      "text/html": [
       "<div>\n",
       "<style scoped>\n",
       "    .dataframe tbody tr th:only-of-type {\n",
       "        vertical-align: middle;\n",
       "    }\n",
       "\n",
       "    .dataframe tbody tr th {\n",
       "        vertical-align: top;\n",
       "    }\n",
       "\n",
       "    .dataframe thead th {\n",
       "        text-align: right;\n",
       "    }\n",
       "</style>\n",
       "<table border=\"1\" class=\"dataframe\">\n",
       "  <thead>\n",
       "    <tr style=\"text-align: right;\">\n",
       "      <th></th>\n",
       "      <th>age</th>\n",
       "      <th>fnlwgt</th>\n",
       "      <th>education_num</th>\n",
       "      <th>capital_gain</th>\n",
       "      <th>capital_loss</th>\n",
       "      <th>hours_per_week</th>\n",
       "    </tr>\n",
       "  </thead>\n",
       "  <tbody>\n",
       "    <tr>\n",
       "      <th>count</th>\n",
       "      <td>15060.000000</td>\n",
       "      <td>1.506000e+04</td>\n",
       "      <td>15060.000000</td>\n",
       "      <td>15060.000000</td>\n",
       "      <td>15060.000000</td>\n",
       "      <td>15060.000000</td>\n",
       "    </tr>\n",
       "    <tr>\n",
       "      <th>mean</th>\n",
       "      <td>38.768327</td>\n",
       "      <td>1.896164e+05</td>\n",
       "      <td>10.112749</td>\n",
       "      <td>1120.301594</td>\n",
       "      <td>89.041899</td>\n",
       "      <td>40.951594</td>\n",
       "    </tr>\n",
       "    <tr>\n",
       "      <th>std</th>\n",
       "      <td>13.380676</td>\n",
       "      <td>1.056150e+05</td>\n",
       "      <td>2.558727</td>\n",
       "      <td>7703.181842</td>\n",
       "      <td>406.283245</td>\n",
       "      <td>12.062831</td>\n",
       "    </tr>\n",
       "    <tr>\n",
       "      <th>min</th>\n",
       "      <td>17.000000</td>\n",
       "      <td>1.349200e+04</td>\n",
       "      <td>1.000000</td>\n",
       "      <td>0.000000</td>\n",
       "      <td>0.000000</td>\n",
       "      <td>1.000000</td>\n",
       "    </tr>\n",
       "    <tr>\n",
       "      <th>25%</th>\n",
       "      <td>28.000000</td>\n",
       "      <td>1.166550e+05</td>\n",
       "      <td>9.000000</td>\n",
       "      <td>0.000000</td>\n",
       "      <td>0.000000</td>\n",
       "      <td>40.000000</td>\n",
       "    </tr>\n",
       "    <tr>\n",
       "      <th>50%</th>\n",
       "      <td>37.000000</td>\n",
       "      <td>1.779550e+05</td>\n",
       "      <td>10.000000</td>\n",
       "      <td>0.000000</td>\n",
       "      <td>0.000000</td>\n",
       "      <td>40.000000</td>\n",
       "    </tr>\n",
       "    <tr>\n",
       "      <th>75%</th>\n",
       "      <td>48.000000</td>\n",
       "      <td>2.385888e+05</td>\n",
       "      <td>13.000000</td>\n",
       "      <td>0.000000</td>\n",
       "      <td>0.000000</td>\n",
       "      <td>45.000000</td>\n",
       "    </tr>\n",
       "    <tr>\n",
       "      <th>max</th>\n",
       "      <td>90.000000</td>\n",
       "      <td>1.490400e+06</td>\n",
       "      <td>16.000000</td>\n",
       "      <td>99999.000000</td>\n",
       "      <td>3770.000000</td>\n",
       "      <td>99.000000</td>\n",
       "    </tr>\n",
       "  </tbody>\n",
       "</table>\n",
       "</div>"
      ],
      "text/plain": [
       "                age        fnlwgt  education_num  capital_gain  capital_loss  \\\n",
       "count  15060.000000  1.506000e+04   15060.000000  15060.000000  15060.000000   \n",
       "mean      38.768327  1.896164e+05      10.112749   1120.301594     89.041899   \n",
       "std       13.380676  1.056150e+05       2.558727   7703.181842    406.283245   \n",
       "min       17.000000  1.349200e+04       1.000000      0.000000      0.000000   \n",
       "25%       28.000000  1.166550e+05       9.000000      0.000000      0.000000   \n",
       "50%       37.000000  1.779550e+05      10.000000      0.000000      0.000000   \n",
       "75%       48.000000  2.385888e+05      13.000000      0.000000      0.000000   \n",
       "max       90.000000  1.490400e+06      16.000000  99999.000000   3770.000000   \n",
       "\n",
       "       hours_per_week  \n",
       "count    15060.000000  \n",
       "mean        40.951594  \n",
       "std         12.062831  \n",
       "min          1.000000  \n",
       "25%         40.000000  \n",
       "50%         40.000000  \n",
       "75%         45.000000  \n",
       "max         99.000000  "
      ]
     },
     "metadata": {},
     "output_type": "display_data"
    }
   ],
   "source": [
    "print('Adult test dataset statistical information')\n",
    "display(adult_test_data.describe())"
   ]
  },
  {
   "cell_type": "code",
   "execution_count": 9,
   "metadata": {},
   "outputs": [
    {
     "name": "stdout",
     "output_type": "stream",
     "text": [
      "Adult train dataset head:\n"
     ]
    },
    {
     "data": {
      "text/html": [
       "<div>\n",
       "<style scoped>\n",
       "    .dataframe tbody tr th:only-of-type {\n",
       "        vertical-align: middle;\n",
       "    }\n",
       "\n",
       "    .dataframe tbody tr th {\n",
       "        vertical-align: top;\n",
       "    }\n",
       "\n",
       "    .dataframe thead th {\n",
       "        text-align: right;\n",
       "    }\n",
       "</style>\n",
       "<table border=\"1\" class=\"dataframe\">\n",
       "  <thead>\n",
       "    <tr style=\"text-align: right;\">\n",
       "      <th></th>\n",
       "      <th>age</th>\n",
       "      <th>workclass</th>\n",
       "      <th>fnlwgt</th>\n",
       "      <th>education</th>\n",
       "      <th>education_num</th>\n",
       "      <th>marital_status</th>\n",
       "      <th>occupation</th>\n",
       "      <th>relationship</th>\n",
       "      <th>race</th>\n",
       "      <th>sex</th>\n",
       "      <th>capital_gain</th>\n",
       "      <th>capital_loss</th>\n",
       "      <th>hours_per_week</th>\n",
       "      <th>native_country</th>\n",
       "      <th>Income</th>\n",
       "    </tr>\n",
       "  </thead>\n",
       "  <tbody>\n",
       "    <tr>\n",
       "      <th>0</th>\n",
       "      <td>43</td>\n",
       "      <td>Self-emp-not-inc</td>\n",
       "      <td>156635</td>\n",
       "      <td>Bachelors</td>\n",
       "      <td>14</td>\n",
       "      <td>Divorced</td>\n",
       "      <td>Prof-specialty</td>\n",
       "      <td>Husband</td>\n",
       "      <td>White</td>\n",
       "      <td>Male</td>\n",
       "      <td>0</td>\n",
       "      <td>0</td>\n",
       "      <td>42</td>\n",
       "      <td>US</td>\n",
       "      <td>&lt;=50K</td>\n",
       "    </tr>\n",
       "    <tr>\n",
       "      <th>1</th>\n",
       "      <td>43</td>\n",
       "      <td>Private</td>\n",
       "      <td>132022</td>\n",
       "      <td>high-school</td>\n",
       "      <td>9</td>\n",
       "      <td>Married-spouse-absent</td>\n",
       "      <td>Craft-repair</td>\n",
       "      <td>Unmarried</td>\n",
       "      <td>White</td>\n",
       "      <td>Female</td>\n",
       "      <td>0</td>\n",
       "      <td>0</td>\n",
       "      <td>40</td>\n",
       "      <td>US</td>\n",
       "      <td>&lt;=50K</td>\n",
       "    </tr>\n",
       "    <tr>\n",
       "      <th>2</th>\n",
       "      <td>19</td>\n",
       "      <td>Private</td>\n",
       "      <td>55086</td>\n",
       "      <td>HS-grad</td>\n",
       "      <td>9</td>\n",
       "      <td>Never-married</td>\n",
       "      <td>Machine-op-inspct</td>\n",
       "      <td>Not-in-family</td>\n",
       "      <td>White</td>\n",
       "      <td>Female</td>\n",
       "      <td>0</td>\n",
       "      <td>0</td>\n",
       "      <td>25</td>\n",
       "      <td>US</td>\n",
       "      <td>&lt;=50K</td>\n",
       "    </tr>\n",
       "    <tr>\n",
       "      <th>3</th>\n",
       "      <td>18</td>\n",
       "      <td>Private</td>\n",
       "      <td>167320</td>\n",
       "      <td>high-school</td>\n",
       "      <td>9</td>\n",
       "      <td>Never-married</td>\n",
       "      <td>Machine-op-inspct</td>\n",
       "      <td>Not-in-family</td>\n",
       "      <td>Black</td>\n",
       "      <td>Female</td>\n",
       "      <td>0</td>\n",
       "      <td>0</td>\n",
       "      <td>29</td>\n",
       "      <td>Non-US</td>\n",
       "      <td>&lt;=50K</td>\n",
       "    </tr>\n",
       "    <tr>\n",
       "      <th>4</th>\n",
       "      <td>17</td>\n",
       "      <td>State-gov</td>\n",
       "      <td>159930</td>\n",
       "      <td>Assoc-voc</td>\n",
       "      <td>9</td>\n",
       "      <td>Divorced</td>\n",
       "      <td>Handlers-cleaners</td>\n",
       "      <td>Unmarried</td>\n",
       "      <td>White</td>\n",
       "      <td>Male</td>\n",
       "      <td>0</td>\n",
       "      <td>0</td>\n",
       "      <td>82</td>\n",
       "      <td>Non-US</td>\n",
       "      <td>&lt;=50K</td>\n",
       "    </tr>\n",
       "    <tr>\n",
       "      <th>5</th>\n",
       "      <td>17</td>\n",
       "      <td>Self-emp-inc</td>\n",
       "      <td>424146</td>\n",
       "      <td>high-school</td>\n",
       "      <td>9</td>\n",
       "      <td>Never-married</td>\n",
       "      <td>Exec-managerial</td>\n",
       "      <td>Own-child</td>\n",
       "      <td>White</td>\n",
       "      <td>Male</td>\n",
       "      <td>0</td>\n",
       "      <td>0</td>\n",
       "      <td>83</td>\n",
       "      <td>US</td>\n",
       "      <td>&lt;=50K</td>\n",
       "    </tr>\n",
       "    <tr>\n",
       "      <th>6</th>\n",
       "      <td>48</td>\n",
       "      <td>Private</td>\n",
       "      <td>53612</td>\n",
       "      <td>HS-grad</td>\n",
       "      <td>9</td>\n",
       "      <td>Never-married</td>\n",
       "      <td>Adm-clerical</td>\n",
       "      <td>Husband</td>\n",
       "      <td>White</td>\n",
       "      <td>Male</td>\n",
       "      <td>0</td>\n",
       "      <td>0</td>\n",
       "      <td>31</td>\n",
       "      <td>US</td>\n",
       "      <td>&lt;=50K</td>\n",
       "    </tr>\n",
       "    <tr>\n",
       "      <th>7</th>\n",
       "      <td>18</td>\n",
       "      <td>Private</td>\n",
       "      <td>172127</td>\n",
       "      <td>prim-middle-school</td>\n",
       "      <td>9</td>\n",
       "      <td>Never-married</td>\n",
       "      <td>Machine-op-inspct</td>\n",
       "      <td>Not-in-family</td>\n",
       "      <td>Black</td>\n",
       "      <td>Female</td>\n",
       "      <td>0</td>\n",
       "      <td>0</td>\n",
       "      <td>25</td>\n",
       "      <td>Non-US</td>\n",
       "      <td>&lt;=50K</td>\n",
       "    </tr>\n",
       "    <tr>\n",
       "      <th>8</th>\n",
       "      <td>22</td>\n",
       "      <td>State-gov</td>\n",
       "      <td>55459</td>\n",
       "      <td>HS-grad</td>\n",
       "      <td>9</td>\n",
       "      <td>Never-married</td>\n",
       "      <td>Sales</td>\n",
       "      <td>Not-in-family</td>\n",
       "      <td>White</td>\n",
       "      <td>Female</td>\n",
       "      <td>0</td>\n",
       "      <td>0</td>\n",
       "      <td>18</td>\n",
       "      <td>US</td>\n",
       "      <td>&lt;=50K</td>\n",
       "    </tr>\n",
       "    <tr>\n",
       "      <th>9</th>\n",
       "      <td>27</td>\n",
       "      <td>Private</td>\n",
       "      <td>53643</td>\n",
       "      <td>prim-middle-school</td>\n",
       "      <td>9</td>\n",
       "      <td>Never-married</td>\n",
       "      <td>Other-service</td>\n",
       "      <td>Not-in-family</td>\n",
       "      <td>Black</td>\n",
       "      <td>Female</td>\n",
       "      <td>0</td>\n",
       "      <td>0</td>\n",
       "      <td>40</td>\n",
       "      <td>US</td>\n",
       "      <td>&lt;=50K</td>\n",
       "    </tr>\n",
       "  </tbody>\n",
       "</table>\n",
       "</div>"
      ],
      "text/plain": [
       "   age         workclass  fnlwgt           education  education_num  \\\n",
       "0   43  Self-emp-not-inc  156635           Bachelors             14   \n",
       "1   43           Private  132022         high-school              9   \n",
       "2   19           Private   55086             HS-grad              9   \n",
       "3   18           Private  167320         high-school              9   \n",
       "4   17         State-gov  159930           Assoc-voc              9   \n",
       "5   17      Self-emp-inc  424146         high-school              9   \n",
       "6   48           Private   53612             HS-grad              9   \n",
       "7   18           Private  172127  prim-middle-school              9   \n",
       "8   22         State-gov   55459             HS-grad              9   \n",
       "9   27           Private   53643  prim-middle-school              9   \n",
       "\n",
       "          marital_status         occupation   relationship   race     sex  \\\n",
       "0               Divorced     Prof-specialty        Husband  White    Male   \n",
       "1  Married-spouse-absent       Craft-repair      Unmarried  White  Female   \n",
       "2          Never-married  Machine-op-inspct  Not-in-family  White  Female   \n",
       "3          Never-married  Machine-op-inspct  Not-in-family  Black  Female   \n",
       "4               Divorced  Handlers-cleaners      Unmarried  White    Male   \n",
       "5          Never-married    Exec-managerial      Own-child  White    Male   \n",
       "6          Never-married       Adm-clerical        Husband  White    Male   \n",
       "7          Never-married  Machine-op-inspct  Not-in-family  Black  Female   \n",
       "8          Never-married              Sales  Not-in-family  White  Female   \n",
       "9          Never-married      Other-service  Not-in-family  Black  Female   \n",
       "\n",
       "   capital_gain  capital_loss  hours_per_week native_country Income  \n",
       "0             0             0              42             US  <=50K  \n",
       "1             0             0              40             US  <=50K  \n",
       "2             0             0              25             US  <=50K  \n",
       "3             0             0              29         Non-US  <=50K  \n",
       "4             0             0              82         Non-US  <=50K  \n",
       "5             0             0              83             US  <=50K  \n",
       "6             0             0              31             US  <=50K  \n",
       "7             0             0              25         Non-US  <=50K  \n",
       "8             0             0              18             US  <=50K  \n",
       "9             0             0              40             US  <=50K  "
      ]
     },
     "metadata": {},
     "output_type": "display_data"
    },
    {
     "name": "stdout",
     "output_type": "stream",
     "text": [
      "\n",
      "Adult train dataset tail:\n"
     ]
    },
    {
     "data": {
      "text/html": [
       "<div>\n",
       "<style scoped>\n",
       "    .dataframe tbody tr th:only-of-type {\n",
       "        vertical-align: middle;\n",
       "    }\n",
       "\n",
       "    .dataframe tbody tr th {\n",
       "        vertical-align: top;\n",
       "    }\n",
       "\n",
       "    .dataframe thead th {\n",
       "        text-align: right;\n",
       "    }\n",
       "</style>\n",
       "<table border=\"1\" class=\"dataframe\">\n",
       "  <thead>\n",
       "    <tr style=\"text-align: right;\">\n",
       "      <th></th>\n",
       "      <th>age</th>\n",
       "      <th>workclass</th>\n",
       "      <th>fnlwgt</th>\n",
       "      <th>education</th>\n",
       "      <th>education_num</th>\n",
       "      <th>marital_status</th>\n",
       "      <th>occupation</th>\n",
       "      <th>relationship</th>\n",
       "      <th>race</th>\n",
       "      <th>sex</th>\n",
       "      <th>capital_gain</th>\n",
       "      <th>capital_loss</th>\n",
       "      <th>hours_per_week</th>\n",
       "      <th>native_country</th>\n",
       "      <th>Income</th>\n",
       "    </tr>\n",
       "  </thead>\n",
       "  <tbody>\n",
       "    <tr>\n",
       "      <th>39990</th>\n",
       "      <td>19</td>\n",
       "      <td>Private</td>\n",
       "      <td>193765</td>\n",
       "      <td>Doctorate</td>\n",
       "      <td>9</td>\n",
       "      <td>Never-married</td>\n",
       "      <td>Exec-managerial</td>\n",
       "      <td>Other-relative</td>\n",
       "      <td>Black</td>\n",
       "      <td>Male</td>\n",
       "      <td>0</td>\n",
       "      <td>0</td>\n",
       "      <td>40</td>\n",
       "      <td>US</td>\n",
       "      <td>&lt;=50K</td>\n",
       "    </tr>\n",
       "    <tr>\n",
       "      <th>39991</th>\n",
       "      <td>34</td>\n",
       "      <td>Private</td>\n",
       "      <td>90878</td>\n",
       "      <td>HS-grad</td>\n",
       "      <td>9</td>\n",
       "      <td>Married-civ-spouse</td>\n",
       "      <td>Handlers-cleaners</td>\n",
       "      <td>Unmarried</td>\n",
       "      <td>White</td>\n",
       "      <td>Male</td>\n",
       "      <td>0</td>\n",
       "      <td>0</td>\n",
       "      <td>54</td>\n",
       "      <td>US</td>\n",
       "      <td>&lt;=50K</td>\n",
       "    </tr>\n",
       "    <tr>\n",
       "      <th>39992</th>\n",
       "      <td>29</td>\n",
       "      <td>Private</td>\n",
       "      <td>211251</td>\n",
       "      <td>Bachelors</td>\n",
       "      <td>11</td>\n",
       "      <td>Married-civ-spouse</td>\n",
       "      <td>Farming-fishing</td>\n",
       "      <td>Husband</td>\n",
       "      <td>White</td>\n",
       "      <td>Male</td>\n",
       "      <td>0</td>\n",
       "      <td>0</td>\n",
       "      <td>40</td>\n",
       "      <td>US</td>\n",
       "      <td>&lt;=50K</td>\n",
       "    </tr>\n",
       "    <tr>\n",
       "      <th>39993</th>\n",
       "      <td>35</td>\n",
       "      <td>Private</td>\n",
       "      <td>179832</td>\n",
       "      <td>Bachelors</td>\n",
       "      <td>14</td>\n",
       "      <td>Married-civ-spouse</td>\n",
       "      <td>Tech-support</td>\n",
       "      <td>Wife</td>\n",
       "      <td>White</td>\n",
       "      <td>Female</td>\n",
       "      <td>7922</td>\n",
       "      <td>0</td>\n",
       "      <td>40</td>\n",
       "      <td>US</td>\n",
       "      <td>&gt;50K</td>\n",
       "    </tr>\n",
       "    <tr>\n",
       "      <th>39994</th>\n",
       "      <td>32</td>\n",
       "      <td>Private</td>\n",
       "      <td>209612</td>\n",
       "      <td>Bachelors</td>\n",
       "      <td>14</td>\n",
       "      <td>Divorced</td>\n",
       "      <td>Protective-serv</td>\n",
       "      <td>Not-in-family</td>\n",
       "      <td>White</td>\n",
       "      <td>Female</td>\n",
       "      <td>0</td>\n",
       "      <td>0</td>\n",
       "      <td>40</td>\n",
       "      <td>US</td>\n",
       "      <td>&lt;=50K</td>\n",
       "    </tr>\n",
       "    <tr>\n",
       "      <th>39995</th>\n",
       "      <td>20</td>\n",
       "      <td>Private</td>\n",
       "      <td>118761</td>\n",
       "      <td>HS-grad</td>\n",
       "      <td>9</td>\n",
       "      <td>Never-married</td>\n",
       "      <td>Machine-op-inspct</td>\n",
       "      <td>Not-in-family</td>\n",
       "      <td>White</td>\n",
       "      <td>Male</td>\n",
       "      <td>0</td>\n",
       "      <td>0</td>\n",
       "      <td>32</td>\n",
       "      <td>US</td>\n",
       "      <td>&lt;=50K</td>\n",
       "    </tr>\n",
       "    <tr>\n",
       "      <th>39996</th>\n",
       "      <td>18</td>\n",
       "      <td>Private</td>\n",
       "      <td>438568</td>\n",
       "      <td>Some-college</td>\n",
       "      <td>11</td>\n",
       "      <td>Married-civ-spouse</td>\n",
       "      <td>Exec-managerial</td>\n",
       "      <td>Husband</td>\n",
       "      <td>White</td>\n",
       "      <td>Male</td>\n",
       "      <td>0</td>\n",
       "      <td>0</td>\n",
       "      <td>83</td>\n",
       "      <td>US</td>\n",
       "      <td>&gt;50K</td>\n",
       "    </tr>\n",
       "    <tr>\n",
       "      <th>39997</th>\n",
       "      <td>30</td>\n",
       "      <td>Private</td>\n",
       "      <td>176113</td>\n",
       "      <td>Some-college</td>\n",
       "      <td>14</td>\n",
       "      <td>Married-civ-spouse</td>\n",
       "      <td>Armed-Forces</td>\n",
       "      <td>Husband</td>\n",
       "      <td>White</td>\n",
       "      <td>Male</td>\n",
       "      <td>24678</td>\n",
       "      <td>0</td>\n",
       "      <td>40</td>\n",
       "      <td>US</td>\n",
       "      <td>&lt;=50K</td>\n",
       "    </tr>\n",
       "    <tr>\n",
       "      <th>39998</th>\n",
       "      <td>28</td>\n",
       "      <td>Private</td>\n",
       "      <td>131961</td>\n",
       "      <td>HS-grad</td>\n",
       "      <td>9</td>\n",
       "      <td>Married-civ-spouse</td>\n",
       "      <td>Sales</td>\n",
       "      <td>Husband</td>\n",
       "      <td>White</td>\n",
       "      <td>Male</td>\n",
       "      <td>0</td>\n",
       "      <td>0</td>\n",
       "      <td>40</td>\n",
       "      <td>US</td>\n",
       "      <td>&lt;=50K</td>\n",
       "    </tr>\n",
       "    <tr>\n",
       "      <th>39999</th>\n",
       "      <td>18</td>\n",
       "      <td>Private</td>\n",
       "      <td>53643</td>\n",
       "      <td>HS-grad</td>\n",
       "      <td>9</td>\n",
       "      <td>Never-married</td>\n",
       "      <td>Adm-clerical</td>\n",
       "      <td>Unmarried</td>\n",
       "      <td>Black</td>\n",
       "      <td>Female</td>\n",
       "      <td>0</td>\n",
       "      <td>0</td>\n",
       "      <td>40</td>\n",
       "      <td>US</td>\n",
       "      <td>&lt;=50K</td>\n",
       "    </tr>\n",
       "  </tbody>\n",
       "</table>\n",
       "</div>"
      ],
      "text/plain": [
       "       age workclass  fnlwgt     education  education_num      marital_status  \\\n",
       "39990   19   Private  193765     Doctorate              9       Never-married   \n",
       "39991   34   Private   90878       HS-grad              9  Married-civ-spouse   \n",
       "39992   29   Private  211251     Bachelors             11  Married-civ-spouse   \n",
       "39993   35   Private  179832     Bachelors             14  Married-civ-spouse   \n",
       "39994   32   Private  209612     Bachelors             14            Divorced   \n",
       "39995   20   Private  118761       HS-grad              9       Never-married   \n",
       "39996   18   Private  438568  Some-college             11  Married-civ-spouse   \n",
       "39997   30   Private  176113  Some-college             14  Married-civ-spouse   \n",
       "39998   28   Private  131961       HS-grad              9  Married-civ-spouse   \n",
       "39999   18   Private   53643       HS-grad              9       Never-married   \n",
       "\n",
       "              occupation    relationship   race     sex  capital_gain  \\\n",
       "39990    Exec-managerial  Other-relative  Black    Male             0   \n",
       "39991  Handlers-cleaners       Unmarried  White    Male             0   \n",
       "39992    Farming-fishing         Husband  White    Male             0   \n",
       "39993       Tech-support            Wife  White  Female          7922   \n",
       "39994    Protective-serv   Not-in-family  White  Female             0   \n",
       "39995  Machine-op-inspct   Not-in-family  White    Male             0   \n",
       "39996    Exec-managerial         Husband  White    Male             0   \n",
       "39997       Armed-Forces         Husband  White    Male         24678   \n",
       "39998              Sales         Husband  White    Male             0   \n",
       "39999       Adm-clerical       Unmarried  Black  Female             0   \n",
       "\n",
       "       capital_loss  hours_per_week native_country Income  \n",
       "39990             0              40             US  <=50K  \n",
       "39991             0              54             US  <=50K  \n",
       "39992             0              40             US  <=50K  \n",
       "39993             0              40             US   >50K  \n",
       "39994             0              40             US  <=50K  \n",
       "39995             0              32             US  <=50K  \n",
       "39996             0              83             US   >50K  \n",
       "39997             0              40             US  <=50K  \n",
       "39998             0              40             US  <=50K  \n",
       "39999             0              40             US  <=50K  "
      ]
     },
     "metadata": {},
     "output_type": "display_data"
    }
   ],
   "source": [
    "print('Adult train dataset head:')\n",
    "display(adult_train_data.head(10))\n",
    "print('\\nAdult train dataset tail:')\n",
    "display(adult_train_data.tail(10))"
   ]
  },
  {
   "cell_type": "code",
   "execution_count": 10,
   "metadata": {},
   "outputs": [
    {
     "name": "stdout",
     "output_type": "stream",
     "text": [
      "Adult test dataset head:\n"
     ]
    },
    {
     "data": {
      "text/html": [
       "<div>\n",
       "<style scoped>\n",
       "    .dataframe tbody tr th:only-of-type {\n",
       "        vertical-align: middle;\n",
       "    }\n",
       "\n",
       "    .dataframe tbody tr th {\n",
       "        vertical-align: top;\n",
       "    }\n",
       "\n",
       "    .dataframe thead th {\n",
       "        text-align: right;\n",
       "    }\n",
       "</style>\n",
       "<table border=\"1\" class=\"dataframe\">\n",
       "  <thead>\n",
       "    <tr style=\"text-align: right;\">\n",
       "      <th></th>\n",
       "      <th>age</th>\n",
       "      <th>workclass</th>\n",
       "      <th>fnlwgt</th>\n",
       "      <th>education</th>\n",
       "      <th>education_num</th>\n",
       "      <th>marital_status</th>\n",
       "      <th>occupation</th>\n",
       "      <th>relationship</th>\n",
       "      <th>race</th>\n",
       "      <th>sex</th>\n",
       "      <th>capital_gain</th>\n",
       "      <th>capital_loss</th>\n",
       "      <th>hours_per_week</th>\n",
       "      <th>native_country</th>\n",
       "      <th>Income</th>\n",
       "    </tr>\n",
       "  </thead>\n",
       "  <tbody>\n",
       "    <tr>\n",
       "      <th>0</th>\n",
       "      <td>25</td>\n",
       "      <td>Private</td>\n",
       "      <td>226802</td>\n",
       "      <td>high-school</td>\n",
       "      <td>7</td>\n",
       "      <td>Never-married</td>\n",
       "      <td>Machine-op-inspct</td>\n",
       "      <td>Own-child</td>\n",
       "      <td>Black</td>\n",
       "      <td>Male</td>\n",
       "      <td>0</td>\n",
       "      <td>0</td>\n",
       "      <td>40</td>\n",
       "      <td>US</td>\n",
       "      <td>&lt;=50K</td>\n",
       "    </tr>\n",
       "    <tr>\n",
       "      <th>1</th>\n",
       "      <td>38</td>\n",
       "      <td>Private</td>\n",
       "      <td>89814</td>\n",
       "      <td>HS-grad</td>\n",
       "      <td>9</td>\n",
       "      <td>Married-civ-spouse</td>\n",
       "      <td>Farming-fishing</td>\n",
       "      <td>Husband</td>\n",
       "      <td>White</td>\n",
       "      <td>Male</td>\n",
       "      <td>0</td>\n",
       "      <td>0</td>\n",
       "      <td>50</td>\n",
       "      <td>US</td>\n",
       "      <td>&lt;=50K</td>\n",
       "    </tr>\n",
       "    <tr>\n",
       "      <th>2</th>\n",
       "      <td>28</td>\n",
       "      <td>Local-gov</td>\n",
       "      <td>336951</td>\n",
       "      <td>Assoc-acdm</td>\n",
       "      <td>12</td>\n",
       "      <td>Married-civ-spouse</td>\n",
       "      <td>Protective-serv</td>\n",
       "      <td>Husband</td>\n",
       "      <td>White</td>\n",
       "      <td>Male</td>\n",
       "      <td>0</td>\n",
       "      <td>0</td>\n",
       "      <td>40</td>\n",
       "      <td>US</td>\n",
       "      <td>&gt;50K</td>\n",
       "    </tr>\n",
       "    <tr>\n",
       "      <th>3</th>\n",
       "      <td>44</td>\n",
       "      <td>Private</td>\n",
       "      <td>160323</td>\n",
       "      <td>Some-college</td>\n",
       "      <td>10</td>\n",
       "      <td>Married-civ-spouse</td>\n",
       "      <td>Machine-op-inspct</td>\n",
       "      <td>Husband</td>\n",
       "      <td>Black</td>\n",
       "      <td>Male</td>\n",
       "      <td>7688</td>\n",
       "      <td>0</td>\n",
       "      <td>40</td>\n",
       "      <td>US</td>\n",
       "      <td>&gt;50K</td>\n",
       "    </tr>\n",
       "    <tr>\n",
       "      <th>4</th>\n",
       "      <td>34</td>\n",
       "      <td>Private</td>\n",
       "      <td>198693</td>\n",
       "      <td>high-school</td>\n",
       "      <td>6</td>\n",
       "      <td>Never-married</td>\n",
       "      <td>Other-service</td>\n",
       "      <td>Not-in-family</td>\n",
       "      <td>White</td>\n",
       "      <td>Male</td>\n",
       "      <td>0</td>\n",
       "      <td>0</td>\n",
       "      <td>30</td>\n",
       "      <td>US</td>\n",
       "      <td>&lt;=50K</td>\n",
       "    </tr>\n",
       "    <tr>\n",
       "      <th>5</th>\n",
       "      <td>63</td>\n",
       "      <td>Self-emp-not-inc</td>\n",
       "      <td>104626</td>\n",
       "      <td>Prof-school</td>\n",
       "      <td>15</td>\n",
       "      <td>Married-civ-spouse</td>\n",
       "      <td>Prof-specialty</td>\n",
       "      <td>Husband</td>\n",
       "      <td>White</td>\n",
       "      <td>Male</td>\n",
       "      <td>3103</td>\n",
       "      <td>0</td>\n",
       "      <td>32</td>\n",
       "      <td>US</td>\n",
       "      <td>&gt;50K</td>\n",
       "    </tr>\n",
       "    <tr>\n",
       "      <th>6</th>\n",
       "      <td>24</td>\n",
       "      <td>Private</td>\n",
       "      <td>369667</td>\n",
       "      <td>Some-college</td>\n",
       "      <td>10</td>\n",
       "      <td>Never-married</td>\n",
       "      <td>Other-service</td>\n",
       "      <td>Unmarried</td>\n",
       "      <td>White</td>\n",
       "      <td>Female</td>\n",
       "      <td>0</td>\n",
       "      <td>0</td>\n",
       "      <td>40</td>\n",
       "      <td>US</td>\n",
       "      <td>&lt;=50K</td>\n",
       "    </tr>\n",
       "    <tr>\n",
       "      <th>7</th>\n",
       "      <td>55</td>\n",
       "      <td>Private</td>\n",
       "      <td>104996</td>\n",
       "      <td>prim-middle-school</td>\n",
       "      <td>4</td>\n",
       "      <td>Married-civ-spouse</td>\n",
       "      <td>Craft-repair</td>\n",
       "      <td>Husband</td>\n",
       "      <td>White</td>\n",
       "      <td>Male</td>\n",
       "      <td>0</td>\n",
       "      <td>0</td>\n",
       "      <td>10</td>\n",
       "      <td>US</td>\n",
       "      <td>&lt;=50K</td>\n",
       "    </tr>\n",
       "    <tr>\n",
       "      <th>8</th>\n",
       "      <td>65</td>\n",
       "      <td>Private</td>\n",
       "      <td>184454</td>\n",
       "      <td>HS-grad</td>\n",
       "      <td>9</td>\n",
       "      <td>Married-civ-spouse</td>\n",
       "      <td>Machine-op-inspct</td>\n",
       "      <td>Husband</td>\n",
       "      <td>White</td>\n",
       "      <td>Male</td>\n",
       "      <td>6418</td>\n",
       "      <td>0</td>\n",
       "      <td>40</td>\n",
       "      <td>US</td>\n",
       "      <td>&gt;50K</td>\n",
       "    </tr>\n",
       "    <tr>\n",
       "      <th>9</th>\n",
       "      <td>36</td>\n",
       "      <td>Federal-gov</td>\n",
       "      <td>212465</td>\n",
       "      <td>Bachelors</td>\n",
       "      <td>13</td>\n",
       "      <td>Married-civ-spouse</td>\n",
       "      <td>Adm-clerical</td>\n",
       "      <td>Husband</td>\n",
       "      <td>White</td>\n",
       "      <td>Male</td>\n",
       "      <td>0</td>\n",
       "      <td>0</td>\n",
       "      <td>40</td>\n",
       "      <td>US</td>\n",
       "      <td>&lt;=50K</td>\n",
       "    </tr>\n",
       "  </tbody>\n",
       "</table>\n",
       "</div>"
      ],
      "text/plain": [
       "   age         workclass  fnlwgt           education  education_num  \\\n",
       "0   25           Private  226802         high-school              7   \n",
       "1   38           Private   89814             HS-grad              9   \n",
       "2   28         Local-gov  336951          Assoc-acdm             12   \n",
       "3   44           Private  160323        Some-college             10   \n",
       "4   34           Private  198693         high-school              6   \n",
       "5   63  Self-emp-not-inc  104626         Prof-school             15   \n",
       "6   24           Private  369667        Some-college             10   \n",
       "7   55           Private  104996  prim-middle-school              4   \n",
       "8   65           Private  184454             HS-grad              9   \n",
       "9   36       Federal-gov  212465           Bachelors             13   \n",
       "\n",
       "       marital_status         occupation   relationship   race     sex  \\\n",
       "0       Never-married  Machine-op-inspct      Own-child  Black    Male   \n",
       "1  Married-civ-spouse    Farming-fishing        Husband  White    Male   \n",
       "2  Married-civ-spouse    Protective-serv        Husband  White    Male   \n",
       "3  Married-civ-spouse  Machine-op-inspct        Husband  Black    Male   \n",
       "4       Never-married      Other-service  Not-in-family  White    Male   \n",
       "5  Married-civ-spouse     Prof-specialty        Husband  White    Male   \n",
       "6       Never-married      Other-service      Unmarried  White  Female   \n",
       "7  Married-civ-spouse       Craft-repair        Husband  White    Male   \n",
       "8  Married-civ-spouse  Machine-op-inspct        Husband  White    Male   \n",
       "9  Married-civ-spouse       Adm-clerical        Husband  White    Male   \n",
       "\n",
       "   capital_gain  capital_loss  hours_per_week native_country Income  \n",
       "0             0             0              40             US  <=50K  \n",
       "1             0             0              50             US  <=50K  \n",
       "2             0             0              40             US   >50K  \n",
       "3          7688             0              40             US   >50K  \n",
       "4             0             0              30             US  <=50K  \n",
       "5          3103             0              32             US   >50K  \n",
       "6             0             0              40             US  <=50K  \n",
       "7             0             0              10             US  <=50K  \n",
       "8          6418             0              40             US   >50K  \n",
       "9             0             0              40             US  <=50K  "
      ]
     },
     "metadata": {},
     "output_type": "display_data"
    },
    {
     "name": "stdout",
     "output_type": "stream",
     "text": [
      "\n",
      "Adult test dataset tail:\n"
     ]
    },
    {
     "data": {
      "text/html": [
       "<div>\n",
       "<style scoped>\n",
       "    .dataframe tbody tr th:only-of-type {\n",
       "        vertical-align: middle;\n",
       "    }\n",
       "\n",
       "    .dataframe tbody tr th {\n",
       "        vertical-align: top;\n",
       "    }\n",
       "\n",
       "    .dataframe thead th {\n",
       "        text-align: right;\n",
       "    }\n",
       "</style>\n",
       "<table border=\"1\" class=\"dataframe\">\n",
       "  <thead>\n",
       "    <tr style=\"text-align: right;\">\n",
       "      <th></th>\n",
       "      <th>age</th>\n",
       "      <th>workclass</th>\n",
       "      <th>fnlwgt</th>\n",
       "      <th>education</th>\n",
       "      <th>education_num</th>\n",
       "      <th>marital_status</th>\n",
       "      <th>occupation</th>\n",
       "      <th>relationship</th>\n",
       "      <th>race</th>\n",
       "      <th>sex</th>\n",
       "      <th>capital_gain</th>\n",
       "      <th>capital_loss</th>\n",
       "      <th>hours_per_week</th>\n",
       "      <th>native_country</th>\n",
       "      <th>Income</th>\n",
       "    </tr>\n",
       "  </thead>\n",
       "  <tbody>\n",
       "    <tr>\n",
       "      <th>15050</th>\n",
       "      <td>48</td>\n",
       "      <td>Private</td>\n",
       "      <td>285570</td>\n",
       "      <td>HS-grad</td>\n",
       "      <td>9</td>\n",
       "      <td>Married-civ-spouse</td>\n",
       "      <td>Adm-clerical</td>\n",
       "      <td>Husband</td>\n",
       "      <td>White</td>\n",
       "      <td>Male</td>\n",
       "      <td>0</td>\n",
       "      <td>0</td>\n",
       "      <td>40</td>\n",
       "      <td>US</td>\n",
       "      <td>&lt;=50K</td>\n",
       "    </tr>\n",
       "    <tr>\n",
       "      <th>15051</th>\n",
       "      <td>61</td>\n",
       "      <td>Private</td>\n",
       "      <td>89686</td>\n",
       "      <td>HS-grad</td>\n",
       "      <td>9</td>\n",
       "      <td>Married-civ-spouse</td>\n",
       "      <td>Sales</td>\n",
       "      <td>Husband</td>\n",
       "      <td>White</td>\n",
       "      <td>Male</td>\n",
       "      <td>0</td>\n",
       "      <td>0</td>\n",
       "      <td>48</td>\n",
       "      <td>US</td>\n",
       "      <td>&lt;=50K</td>\n",
       "    </tr>\n",
       "    <tr>\n",
       "      <th>15052</th>\n",
       "      <td>31</td>\n",
       "      <td>Private</td>\n",
       "      <td>440129</td>\n",
       "      <td>HS-grad</td>\n",
       "      <td>9</td>\n",
       "      <td>Married-civ-spouse</td>\n",
       "      <td>Craft-repair</td>\n",
       "      <td>Husband</td>\n",
       "      <td>White</td>\n",
       "      <td>Male</td>\n",
       "      <td>0</td>\n",
       "      <td>0</td>\n",
       "      <td>40</td>\n",
       "      <td>US</td>\n",
       "      <td>&lt;=50K</td>\n",
       "    </tr>\n",
       "    <tr>\n",
       "      <th>15053</th>\n",
       "      <td>25</td>\n",
       "      <td>Private</td>\n",
       "      <td>350977</td>\n",
       "      <td>HS-grad</td>\n",
       "      <td>9</td>\n",
       "      <td>Never-married</td>\n",
       "      <td>Other-service</td>\n",
       "      <td>Own-child</td>\n",
       "      <td>White</td>\n",
       "      <td>Female</td>\n",
       "      <td>0</td>\n",
       "      <td>0</td>\n",
       "      <td>40</td>\n",
       "      <td>US</td>\n",
       "      <td>&lt;=50K</td>\n",
       "    </tr>\n",
       "    <tr>\n",
       "      <th>15054</th>\n",
       "      <td>48</td>\n",
       "      <td>Local-gov</td>\n",
       "      <td>349230</td>\n",
       "      <td>Masters</td>\n",
       "      <td>14</td>\n",
       "      <td>Divorced</td>\n",
       "      <td>Other-service</td>\n",
       "      <td>Not-in-family</td>\n",
       "      <td>White</td>\n",
       "      <td>Male</td>\n",
       "      <td>0</td>\n",
       "      <td>0</td>\n",
       "      <td>40</td>\n",
       "      <td>US</td>\n",
       "      <td>&lt;=50K</td>\n",
       "    </tr>\n",
       "    <tr>\n",
       "      <th>15055</th>\n",
       "      <td>33</td>\n",
       "      <td>Private</td>\n",
       "      <td>245211</td>\n",
       "      <td>Bachelors</td>\n",
       "      <td>13</td>\n",
       "      <td>Never-married</td>\n",
       "      <td>Prof-specialty</td>\n",
       "      <td>Own-child</td>\n",
       "      <td>White</td>\n",
       "      <td>Male</td>\n",
       "      <td>0</td>\n",
       "      <td>0</td>\n",
       "      <td>40</td>\n",
       "      <td>US</td>\n",
       "      <td>&lt;=50K</td>\n",
       "    </tr>\n",
       "    <tr>\n",
       "      <th>15056</th>\n",
       "      <td>39</td>\n",
       "      <td>Private</td>\n",
       "      <td>215419</td>\n",
       "      <td>Bachelors</td>\n",
       "      <td>13</td>\n",
       "      <td>Divorced</td>\n",
       "      <td>Prof-specialty</td>\n",
       "      <td>Not-in-family</td>\n",
       "      <td>White</td>\n",
       "      <td>Female</td>\n",
       "      <td>0</td>\n",
       "      <td>0</td>\n",
       "      <td>36</td>\n",
       "      <td>US</td>\n",
       "      <td>&lt;=50K</td>\n",
       "    </tr>\n",
       "    <tr>\n",
       "      <th>15057</th>\n",
       "      <td>38</td>\n",
       "      <td>Private</td>\n",
       "      <td>374983</td>\n",
       "      <td>Bachelors</td>\n",
       "      <td>13</td>\n",
       "      <td>Married-civ-spouse</td>\n",
       "      <td>Prof-specialty</td>\n",
       "      <td>Husband</td>\n",
       "      <td>White</td>\n",
       "      <td>Male</td>\n",
       "      <td>0</td>\n",
       "      <td>0</td>\n",
       "      <td>50</td>\n",
       "      <td>US</td>\n",
       "      <td>&lt;=50K</td>\n",
       "    </tr>\n",
       "    <tr>\n",
       "      <th>15058</th>\n",
       "      <td>44</td>\n",
       "      <td>Private</td>\n",
       "      <td>83891</td>\n",
       "      <td>Bachelors</td>\n",
       "      <td>13</td>\n",
       "      <td>Divorced</td>\n",
       "      <td>Adm-clerical</td>\n",
       "      <td>Own-child</td>\n",
       "      <td>Asian-Pac-Islander</td>\n",
       "      <td>Male</td>\n",
       "      <td>5455</td>\n",
       "      <td>0</td>\n",
       "      <td>40</td>\n",
       "      <td>US</td>\n",
       "      <td>&lt;=50K</td>\n",
       "    </tr>\n",
       "    <tr>\n",
       "      <th>15059</th>\n",
       "      <td>35</td>\n",
       "      <td>Self-emp-inc</td>\n",
       "      <td>182148</td>\n",
       "      <td>Bachelors</td>\n",
       "      <td>13</td>\n",
       "      <td>Married-civ-spouse</td>\n",
       "      <td>Exec-managerial</td>\n",
       "      <td>Husband</td>\n",
       "      <td>White</td>\n",
       "      <td>Male</td>\n",
       "      <td>0</td>\n",
       "      <td>0</td>\n",
       "      <td>60</td>\n",
       "      <td>US</td>\n",
       "      <td>&gt;50K</td>\n",
       "    </tr>\n",
       "  </tbody>\n",
       "</table>\n",
       "</div>"
      ],
      "text/plain": [
       "       age     workclass  fnlwgt  education  education_num  \\\n",
       "15050   48       Private  285570    HS-grad              9   \n",
       "15051   61       Private   89686    HS-grad              9   \n",
       "15052   31       Private  440129    HS-grad              9   \n",
       "15053   25       Private  350977    HS-grad              9   \n",
       "15054   48     Local-gov  349230    Masters             14   \n",
       "15055   33       Private  245211  Bachelors             13   \n",
       "15056   39       Private  215419  Bachelors             13   \n",
       "15057   38       Private  374983  Bachelors             13   \n",
       "15058   44       Private   83891  Bachelors             13   \n",
       "15059   35  Self-emp-inc  182148  Bachelors             13   \n",
       "\n",
       "           marital_status       occupation   relationship                race  \\\n",
       "15050  Married-civ-spouse     Adm-clerical        Husband               White   \n",
       "15051  Married-civ-spouse            Sales        Husband               White   \n",
       "15052  Married-civ-spouse     Craft-repair        Husband               White   \n",
       "15053       Never-married    Other-service      Own-child               White   \n",
       "15054            Divorced    Other-service  Not-in-family               White   \n",
       "15055       Never-married   Prof-specialty      Own-child               White   \n",
       "15056            Divorced   Prof-specialty  Not-in-family               White   \n",
       "15057  Married-civ-spouse   Prof-specialty        Husband               White   \n",
       "15058            Divorced     Adm-clerical      Own-child  Asian-Pac-Islander   \n",
       "15059  Married-civ-spouse  Exec-managerial        Husband               White   \n",
       "\n",
       "          sex  capital_gain  capital_loss  hours_per_week native_country  \\\n",
       "15050    Male             0             0              40             US   \n",
       "15051    Male             0             0              48             US   \n",
       "15052    Male             0             0              40             US   \n",
       "15053  Female             0             0              40             US   \n",
       "15054    Male             0             0              40             US   \n",
       "15055    Male             0             0              40             US   \n",
       "15056  Female             0             0              36             US   \n",
       "15057    Male             0             0              50             US   \n",
       "15058    Male          5455             0              40             US   \n",
       "15059    Male             0             0              60             US   \n",
       "\n",
       "      Income  \n",
       "15050  <=50K  \n",
       "15051  <=50K  \n",
       "15052  <=50K  \n",
       "15053  <=50K  \n",
       "15054  <=50K  \n",
       "15055  <=50K  \n",
       "15056  <=50K  \n",
       "15057  <=50K  \n",
       "15058  <=50K  \n",
       "15059   >50K  "
      ]
     },
     "metadata": {},
     "output_type": "display_data"
    }
   ],
   "source": [
    "print('Adult test dataset head:')\n",
    "display(adult_test_data.head(10))\n",
    "print('\\nAdult test dataset tail:')\n",
    "display(adult_test_data.tail(10))"
   ]
  },
  {
   "cell_type": "code",
   "execution_count": 11,
   "metadata": {},
   "outputs": [
    {
     "data": {
      "text/plain": [
       "Male      26010\n",
       "Female    13990\n",
       "Name: sex, dtype: int64"
      ]
     },
     "execution_count": 11,
     "metadata": {},
     "output_type": "execute_result"
    }
   ],
   "source": [
    "adult_train_data['sex'].value_counts()"
   ]
  },
  {
   "cell_type": "code",
   "execution_count": 12,
   "metadata": {},
   "outputs": [
    {
     "data": {
      "text/plain": [
       "Male      10147\n",
       "Female     4913\n",
       "Name: sex, dtype: int64"
      ]
     },
     "execution_count": 12,
     "metadata": {},
     "output_type": "execute_result"
    }
   ],
   "source": [
    "adult_test_data['sex'].value_counts()"
   ]
  },
  {
   "cell_type": "code",
   "execution_count": 13,
   "metadata": {},
   "outputs": [
    {
     "data": {
      "text/plain": [
       "age                             43\n",
       "workclass         Self-emp-not-inc\n",
       "fnlwgt                      156635\n",
       "education                Bachelors\n",
       "education_num                   14\n",
       "marital_status            Divorced\n",
       "occupation          Prof-specialty\n",
       "relationship               Husband\n",
       "race                         White\n",
       "sex                           Male\n",
       "capital_gain                     0\n",
       "capital_loss                     0\n",
       "hours_per_week                  42\n",
       "native_country                  US\n",
       "Income                       <=50K\n",
       "Name: 0, dtype: object"
      ]
     },
     "execution_count": 13,
     "metadata": {},
     "output_type": "execute_result"
    }
   ],
   "source": [
    "adult_train_data.iloc[0]"
   ]
  },
  {
   "cell_type": "code",
   "execution_count": 14,
   "metadata": {},
   "outputs": [
    {
     "data": {
      "image/png": "[encoded data removed]",
      "text/plain": [
       "<Figure size 432x288 with 1 Axes>"
      ]
     },
     "metadata": {
      "needs_background": "light"
     },
     "output_type": "display_data"
    }
   ],
   "source": [
    "# ax = sns.countplot(x='sex', data=pd.concat([adult_train_data.iloc[1:,], adult_train_data.iloc[0]]))\n",
    "ax = sns.countplot(x='sex', data=adult_train_data)\n",
    "ax.set_xticklabels(['Male', 'Female'])\n",
    "plt.xlabel('')\n",
    "plt.show()"
   ]
  },
  {
   "cell_type": "code",
   "execution_count": 15,
   "metadata": {},
   "outputs": [
    {
     "data": {
      "image/png": "[encoded data removed]",
      "text/plain": [
       "<Figure size 432x288 with 1 Axes>"
      ]
     },
     "metadata": {
      "needs_background": "light"
     },
     "output_type": "display_data"
    }
   ],
   "source": [
    "ax = sns.countplot(x='sex', data=adult_test_data)\n",
    "ax.set_xticklabels(['Male', 'Female'])\n",
    "plt.xlabel('')\n",
    "plt.show()"
   ]
  },
  {
   "cell_type": "code",
   "execution_count": 16,
   "metadata": {},
   "outputs": [
    {
     "data": {
      "text/plain": [
       "<=50K    31261\n",
       ">50K      8739\n",
       "Name: Income, dtype: int64"
      ]
     },
     "execution_count": 16,
     "metadata": {},
     "output_type": "execute_result"
    }
   ],
   "source": [
    "adult_train_data['Income'].value_counts()"
   ]
  },
  {
   "cell_type": "code",
   "execution_count": 17,
   "metadata": {},
   "outputs": [
    {
     "data": {
      "text/plain": [
       "<=50K    11360\n",
       ">50K      3700\n",
       "Name: Income, dtype: int64"
      ]
     },
     "execution_count": 17,
     "metadata": {},
     "output_type": "execute_result"
    }
   ],
   "source": [
    "adult_test_data['Income'].value_counts()"
   ]
  },
  {
   "cell_type": "code",
   "execution_count": 18,
   "metadata": {},
   "outputs": [
    {
     "data": {
      "image/png": "[encoded data removed]",
      "text/plain": [
       "<Figure size 432x288 with 1 Axes>"
      ]
     },
     "metadata": {
      "needs_background": "light"
     },
     "output_type": "display_data"
    }
   ],
   "source": [
    "# ax = sns.countplot(x='Income', data=pd.concat([adult_train_data.iloc[3:,], adult_train_data.iloc[0:3,]]))\n",
    "ax = sns.countplot(x='Income', data=adult_train_data)\n",
    "ax.set_xticklabels(['<=50K', '>50K'])\n",
    "plt.xlabel('')\n",
    "plt.show()"
   ]
  },
  {
   "cell_type": "code",
   "execution_count": 19,
   "metadata": {},
   "outputs": [
    {
     "data": {
      "image/png": "[encoded data removed]",
      "text/plain": [
       "<Figure size 432x288 with 1 Axes>"
      ]
     },
     "metadata": {
      "needs_background": "light"
     },
     "output_type": "display_data"
    }
   ],
   "source": [
    "ax = sns.countplot(x='Income', data=adult_test_data)\n",
    "ax.set_xticklabels(['<=50K', '>50K'])\n",
    "plt.xlabel('')\n",
    "plt.show()"
   ]
  },
  {
   "cell_type": "code",
   "execution_count": 20,
   "metadata": {},
   "outputs": [
    {
     "data": {
      "text/plain": [
       "Text(0,0.5,'Income')"
      ]
     },
     "execution_count": 20,
     "metadata": {},
     "output_type": "execute_result"
    },
    {
     "data": {
      "image/png": "[encoded data removed]",
      "text/plain": [
       "<Figure size 432x288 with 1 Axes>"
      ]
     },
     "metadata": {
      "needs_background": "light"
     },
     "output_type": "display_data"
    }
   ],
   "source": [
    "pd.crosstab(adult_train_data['sex'], adult_train_data['Income']).plot(kind='bar')\n",
    "plt.title('Income per personal sex')\n",
    "plt.xlabel('Sex')\n",
    "plt.ylabel('Income')"
   ]
  },
  {
   "cell_type": "code",
   "execution_count": 21,
   "metadata": {},
   "outputs": [
    {
     "data": {
      "text/plain": [
       "Text(0,0.5,'Income')"
      ]
     },
     "execution_count": 21,
     "metadata": {},
     "output_type": "execute_result"
    },
    {
     "data": {
      "image/png": "[encoded data removed]",
      "text/plain": [
       "<Figure size 432x288 with 1 Axes>"
      ]
     },
     "metadata": {
      "needs_background": "light"
     },
     "output_type": "display_data"
    }
   ],
   "source": [
    "pd.crosstab(adult_test_data['sex'], adult_test_data['Income']).plot(kind='bar')\n",
    "plt.title('Income per personal sex')\n",
    "plt.xlabel('Sex')\n",
    "plt.ylabel('Income')"
   ]
  },
  {
   "cell_type": "markdown",
   "metadata": {},
   "source": [
    "## Mutual Information"
   ]
  },
  {
   "cell_type": "code",
   "execution_count": 22,
   "metadata": {},
   "outputs": [],
   "source": [
    "sex = adult_train_data['sex'].copy()\n",
    "\n",
    "for i in range(len(sex)):\n",
    "    if sex[i] == 'Female':\n",
    "        sex[i] = 1\n",
    "    else:\n",
    "        sex[i] = 0    \n",
    "        \n",
    "sex = np.asarray(sex, dtype='float64')"
   ]
  },
  {
   "cell_type": "code",
   "execution_count": 23,
   "metadata": {},
   "outputs": [],
   "source": [
    "y_df = adult_train_data['Income'].copy()\n",
    "\n",
    "for i in range(len(y_df)):\n",
    "    if y_df[i] == '>50K':\n",
    "        y_df[i] = 1\n",
    "    else:\n",
    "        y_df[i] = 0    \n",
    "        \n",
    "y = np.asarray(y_df, dtype='float64')"
   ]
  },
  {
   "cell_type": "code",
   "execution_count": 24,
   "metadata": {},
   "outputs": [
    {
     "data": {
      "text/plain": [
       "0.002640357379311776"
      ]
     },
     "execution_count": 24,
     "metadata": {},
     "output_type": "execute_result"
    }
   ],
   "source": [
    "normalized_mutual_info_score(adult_train_data['sex'], adult_train_data['Income'])"
   ]
  },
  {
   "cell_type": "code",
   "execution_count": 25,
   "metadata": {},
   "outputs": [
    {
     "data": {
      "text/plain": [
       "0.042508930069762786"
      ]
     },
     "execution_count": 25,
     "metadata": {},
     "output_type": "execute_result"
    }
   ],
   "source": [
    "normalized_mutual_info_score(adult_test_data['sex'], adult_test_data['Income'])"
   ]
  },
  {
   "cell_type": "markdown",
   "metadata": {},
   "source": [
    "## Splitting Data"
   ]
  },
  {
   "cell_type": "code",
   "execution_count": 26,
   "metadata": {},
   "outputs": [],
   "source": [
    "features = adult_train_data.drop(['fnlwgt', 'Income'], axis=1)\n",
    "features = pd.get_dummies(features)"
   ]
  },
  {
   "cell_type": "code",
   "execution_count": 27,
   "metadata": {},
   "outputs": [],
   "source": [
    "test_features = adult_test_data.drop(['fnlwgt', 'Income'], axis=1)\n",
    "test_features = pd.get_dummies(test_features)"
   ]
  },
  {
   "cell_type": "code",
   "execution_count": 28,
   "metadata": {},
   "outputs": [],
   "source": [
    "s = pd.get_dummies(adult_train_data['sex'])\n",
    "test_s = pd.get_dummies(adult_test_data['sex'])"
   ]
  },
  {
   "cell_type": "code",
   "execution_count": 29,
   "metadata": {},
   "outputs": [],
   "source": [
    "y_df = adult_train_data['Income'].copy()\n",
    "\n",
    "for i in range(len(y_df)):\n",
    "    if y_df[i] == '>50K':\n",
    "        y_df[i] = 1\n",
    "    else:\n",
    "        y_df[i] = 0    \n",
    "        \n",
    "y = np.asarray(y_df, dtype='float64')"
   ]
  },
  {
   "cell_type": "code",
   "execution_count": 30,
   "metadata": {},
   "outputs": [],
   "source": [
    "test_y_df = adult_test_data['Income'].copy()\n",
    "\n",
    "for i in range(len(test_y_df)):\n",
    "    if test_y_df[i] == '>50K':\n",
    "        test_y_df[i] = 1\n",
    "    else:\n",
    "        test_y_df[i] = 0    \n",
    "    \n",
    "test_y = np.asarray(test_y_df, dtype='float64')"
   ]
  },
  {
   "cell_type": "code",
   "execution_count": 31,
   "metadata": {},
   "outputs": [
    {
     "name": "stdout",
     "output_type": "stream",
     "text": [
      "Training Data shapes:\n",
      "Features shape: (40000, 58)\n",
      "Sensitive attribute shape: (40000, 2)\n",
      "Output label shape: (40000,)\n"
     ]
    }
   ],
   "source": [
    "print('Training Data shapes:')\n",
    "print('Features shape: {}'.format(features.shape))\n",
    "print('Sensitive attribute shape: {}'.format(s.shape))\n",
    "print('Output label shape: {}'.format(y.shape))"
   ]
  },
  {
   "cell_type": "code",
   "execution_count": 32,
   "metadata": {},
   "outputs": [
    {
     "name": "stdout",
     "output_type": "stream",
     "text": [
      "Test Data shapes:\n",
      "Features shape: (15060, 58)\n",
      "Sensitive attribute shape: (15060, 2)\n",
      "Output label shape: (15060,)\n"
     ]
    }
   ],
   "source": [
    "print('Test Data shapes:')\n",
    "print('Features shape: {}'.format(test_features.shape))\n",
    "print('Sensitive attribute shape: {}'.format(test_s.shape))\n",
    "print('Output label shape: {}'.format(test_y.shape))"
   ]
  },
  {
   "cell_type": "markdown",
   "metadata": {},
   "source": [
    "## Disparate Impact (P%-rule)"
   ]
  },
  {
   "cell_type": "code",
   "execution_count": 33,
   "metadata": {},
   "outputs": [],
   "source": [
    "def p_rule(files):\n",
    "    df = pd.DataFrame()\n",
    "    \n",
    "    for f in files:\n",
    "        df = pd.concat([df, f], axis=1)\n",
    "        \n",
    "    prot_pos = 0\n",
    "    unprot_pos = 0\n",
    "\n",
    "    if 'sex' in df.columns:\n",
    "        for row in df.iterrows():\n",
    "            if row[1][9] == 'Female' and row[1][-1] == '>50K':\n",
    "                prot_pos += 1\n",
    "            elif row[1][9] == 'Male' and row[1][-1] == '>50K': \n",
    "                unprot_pos += 1  \n",
    "                \n",
    "        total_females = df['sex'].value_counts()[1]\n",
    "        total_males = df['sex'].value_counts()[0]\n",
    "        \n",
    "    if 'Female' in df.columns:\n",
    "        for row in df.iterrows():\n",
    "            if row[1][0] == 1 and row[1][-1] == 1:\n",
    "                prot_pos += 1\n",
    "            elif row[1][1] == 1 and row[1][-1] == 1: \n",
    "                unprot_pos += 1\n",
    "                \n",
    "        total_females = df['Female'].value_counts()[1]\n",
    "        total_males = df['Female'].value_counts()[0]              \n",
    "    \n",
    "    prot_per = prot_pos / total_females * 100\n",
    "    unprot_per = unprot_pos / total_males * 100\n",
    "    \n",
    "    train_p_rule = prot_per / unprot_per\n",
    "    \n",
    "    print('Number of Females in the positive class (>50K): {}'.format(prot_pos))\n",
    "    print('Percentage of Females in the positive class (>50K): {:.2f}%'.format(prot_per))\n",
    "    print('\\nNumber of Males in the positive class (>50K): {}'.format(unprot_pos))\n",
    "    print('Percentage of Males in the positive class (>50K): {:.2f}%'.format(unprot_per))\n",
    "    print('\\nTraining set p-rule: {:.2f}%'.format(train_p_rule * 100))"
   ]
  },
  {
   "cell_type": "markdown",
   "metadata": {},
   "source": [
    "### P%-rule on training data"
   ]
  },
  {
   "cell_type": "code",
   "execution_count": 34,
   "metadata": {},
   "outputs": [
    {
     "name": "stdout",
     "output_type": "stream",
     "text": [
      "Number of Females in the positive class (>50K): 2623\n",
      "Percentage of Females in the positive class (>50K): 18.75%\n",
      "\n",
      "Number of Males in the positive class (>50K): 6116\n",
      "Percentage of Males in the positive class (>50K): 23.51%\n",
      "\n",
      "Training set p-rule: 79.74%\n"
     ]
    }
   ],
   "source": [
    "p_rule([adult_train_data])"
   ]
  },
  {
   "cell_type": "markdown",
   "metadata": {},
   "source": [
    "### P%-rule on test data"
   ]
  },
  {
   "cell_type": "code",
   "execution_count": 35,
   "metadata": {},
   "outputs": [
    {
     "name": "stdout",
     "output_type": "stream",
     "text": [
      "Number of Females in the positive class (>50K): 557\n",
      "Percentage of Females in the positive class (>50K): 11.34%\n",
      "\n",
      "Number of Males in the positive class (>50K): 3143\n",
      "Percentage of Males in the positive class (>50K): 30.97%\n",
      "\n",
      "Training set p-rule: 36.60%\n"
     ]
    }
   ],
   "source": [
    "p_rule([adult_test_data])"
   ]
  },
  {
   "cell_type": "markdown",
   "metadata": {},
   "source": [
    "## Disparate Mistreatment"
   ]
  },
  {
   "cell_type": "code",
   "execution_count": 36,
   "metadata": {},
   "outputs": [],
   "source": [
    "def print_disparate_mistreatment_stats(s, y, pred_y):\n",
    "\n",
    "    prot_FP = 0\n",
    "    unprot_FP = 0\n",
    "    \n",
    "    prot_FN = 0\n",
    "    unprot_FN = 0\n",
    "    \n",
    "    prot_TN = 0\n",
    "    unprot_TN = 0\n",
    "    \n",
    "    prot_TP = 0\n",
    "    unprot_TP = 0\n",
    "\n",
    "    for i in range(0, len(s)):\n",
    "        if s['sex_Female'][i] == 1:\n",
    "            if y[i] == 1:\n",
    "                if pred_y[i] != y[i]:\n",
    "                    prot_FN += 1\n",
    "                else:\n",
    "                    prot_TP += 1\n",
    "            else:\n",
    "                if pred_y[i] != y[i]:\n",
    "                    prot_FP += 1\n",
    "                else:\n",
    "                    prot_TN += 1\n",
    "        else:\n",
    "            if y[i] == 1:\n",
    "                if pred_y[i] != y[i]:\n",
    "                    unprot_FN += 1\n",
    "                else:\n",
    "                    unprot_TP += 1\n",
    "            else:\n",
    "                if pred_y[i] != y[i]:\n",
    "                    unprot_FP += 1\n",
    "                else:\n",
    "                    unprot_TN += 1\n",
    "\n",
    "    prot_FPR = prot_FP / (prot_FP + prot_TN)\n",
    "    prot_FNR = prot_FN / (prot_FN + prot_TP)\n",
    "    if prot_FN == 0 and prot_TN == 0:\n",
    "        prot_FOR = 0\n",
    "    else:\n",
    "        prot_FOR = prot_FP / (prot_FN + prot_TN)\n",
    "    prot_FDR = prot_FN / (prot_FP + prot_TP)\n",
    "    \n",
    "    unprot_FPR = unprot_FP / (unprot_FP + unprot_TN)\n",
    "    unprot_FNR = unprot_FN / (unprot_FN + unprot_TP)\n",
    "    if unprot_FN == 0 and unprot_TN == 0:\n",
    "        unprot_FOR = 0\n",
    "    else:\n",
    "        unprot_FOR = unprot_FP / (unprot_FN + unprot_TN)\n",
    "    unprot_FDR = unprot_FN / (unprot_FP + unprot_TP)\n",
    "\n",
    "    print()\n",
    "    print(\"--- Disparate Mistreatment ---\")\n",
    "    print(\"# protected False Positive Rate: %.2f\" % (prot_FPR))\n",
    "    print(\"# unprotected False Positive Rate: %.2f\" % (unprot_FPR))\n",
    "    print()\n",
    "    print(\"# protected False Negative Rate: %.2f\" % (prot_FNR))\n",
    "    print(\"# unprotected False Negative Rate: %.2f\" % (unprot_FNR))\n",
    "    print()\n",
    "    print(\"# protected False Omission Rate: %.2f\" % (prot_FOR))\n",
    "    print(\"# unprotected False Omission Rate: %.2f\" % (unprot_FOR))\n",
    "    print()\n",
    "    print(\"# protected False Discovery Rate: %.2f\" % (prot_FDR))\n",
    "    print(\"# unprotected False Discovery Rate: %.2f\" % (unprot_FDR))\n",
    "    print()\n",
    "\n",
    "#     return prot_FPR, unprot_FPR, prot_FNR, unprot_FNR, prot_FDR, unprot_FDR, prot_FOR, unprot_FOR"
   ]
  },
  {
   "cell_type": "markdown",
   "metadata": {},
   "source": [
    "## Multinomial Naive Bayes"
   ]
  },
  {
   "cell_type": "code",
   "execution_count": 37,
   "metadata": {},
   "outputs": [
    {
     "data": {
      "text/plain": [
       "MultinomialNB(alpha=1.0, class_prior=None, fit_prior=True)"
      ]
     },
     "execution_count": 37,
     "metadata": {},
     "output_type": "execute_result"
    }
   ],
   "source": [
    "multi_nb = MultinomialNB()\n",
    "multi_nb.fit(X=features, y=y)"
   ]
  },
  {
   "cell_type": "code",
   "execution_count": 38,
   "metadata": {},
   "outputs": [
    {
     "data": {
      "text/plain": [
       "'Class log-priors: [-0.24650814 -1.52108369]'"
      ]
     },
     "execution_count": 38,
     "metadata": {},
     "output_type": "execute_result"
    }
   ],
   "source": [
    "'Class log-priors: {}'.format(multi_nb.class_log_prior_)"
   ]
  },
  {
   "cell_type": "code",
   "execution_count": 39,
   "metadata": {},
   "outputs": [],
   "source": [
    "test_pred = multi_nb.predict(X=test_features)"
   ]
  },
  {
   "cell_type": "code",
   "execution_count": 40,
   "metadata": {},
   "outputs": [
    {
     "name": "stdout",
     "output_type": "stream",
     "text": [
      "Accuracy score of multinomial Naive Bayes classifier: 0.7752988047808765\n"
     ]
    }
   ],
   "source": [
    "score = accuracy_score(test_y, test_pred)\n",
    "print('Accuracy score of multinomial Naive Bayes classifier: {}'.format(score))"
   ]
  },
  {
   "cell_type": "code",
   "execution_count": 41,
   "metadata": {},
   "outputs": [],
   "source": [
    "cm_norm = confusion_matrix(test_y, test_pred)/confusion_matrix(test_y, test_pred).sum(axis=1)[:, np.newaxis]"
   ]
  },
  {
   "cell_type": "code",
   "execution_count": 42,
   "metadata": {},
   "outputs": [
    {
     "data": {
      "image/png": "[encoded data removed]",
      "text/plain": [
       "<Figure size 432x288 with 2 Axes>"
      ]
     },
     "metadata": {
      "needs_background": "light"
     },
     "output_type": "display_data"
    }
   ],
   "source": [
    "sns.heatmap(cm_norm, xticklabels=['>50K', '<=50K'], yticklabels=['>50K', '<=50K'], vmin=0., vmax=1., annot=True)\n",
    "plt.title('Confusion Matrix')\n",
    "plt.ylabel('True label')\n",
    "plt.xlabel('Predicted label')\n",
    "#plt.figure()\n",
    "plt.show()"
   ]
  },
  {
   "cell_type": "code",
   "execution_count": 43,
   "metadata": {},
   "outputs": [
    {
     "data": {
      "image/png": "[encoded data removed]",
      "text/plain": [
       "<Figure size 1152x432 with 1 Axes>"
      ]
     },
     "metadata": {
      "needs_background": "light"
     },
     "output_type": "display_data"
    }
   ],
   "source": [
    "sort_idx = np.argsort(multi_nb.feature_log_prob_[0])\n",
    "log_probs = multi_nb.feature_log_prob_[:, sort_idx]\n",
    "ticklabs = features.columns[sort_idx].tolist()\n",
    "\n",
    "N = len(ticklabs)\n",
    "ind = np.arange(N)  # the x locations for the groups\n",
    "width = 0.35        # the width of the bars\n",
    "fig, ax = plt.subplots(figsize=(16,6))\n",
    "pos = ax.bar(ind, log_probs[0], width)\n",
    "neg = ax.bar(ind + width, log_probs[1], width)\n",
    "ax.set_ylabel('Log Probability')\n",
    "ax.set_xticks(ind + width)\n",
    "ax.set_xticklabels(ticklabs, rotation='vertical')\n",
    "ax.legend((pos[0], neg[0]), ('>50K', '<=50K'), loc='best')\n",
    "plt.show()"
   ]
  },
  {
   "cell_type": "markdown",
   "metadata": {},
   "source": [
    "## Logistic Regression"
   ]
  },
  {
   "cell_type": "code",
   "execution_count": 44,
   "metadata": {},
   "outputs": [
    {
     "name": "stdout",
     "output_type": "stream",
     "text": [
      "Accuracy of Logistic Regressor:  0.7314741035856573\n"
     ]
    }
   ],
   "source": [
    "# Creating the logistic regression classifier:\n",
    "log_reg = LogisticRegression(solver='lbfgs', max_iter=5000)\n",
    "\n",
    "# Fitting the training data:\n",
    "fitted = log_reg.fit(features, y)\n",
    "\n",
    "# Calculating the class predictions:\n",
    "pred = fitted.predict(test_features)\n",
    "\n",
    "print('Accuracy of Logistic Regressor: ', fitted.score(test_features, test_y))"
   ]
  },
  {
   "cell_type": "code",
   "execution_count": 45,
   "metadata": {},
   "outputs": [
    {
     "data": {
      "image/png": "[encoded data removed]",
      "text/plain": [
       "<Figure size 432x288 with 2 Axes>"
      ]
     },
     "metadata": {
      "needs_background": "light"
     },
     "output_type": "display_data"
    }
   ],
   "source": [
    "# Creating the confusion matrix:\n",
    "cm_norm = confusion_matrix(test_y, pred)/confusion_matrix(test_y, pred).sum(axis=1)[:, np.newaxis]\n",
    "\n",
    "sns.heatmap(cm_norm, xticklabels=['>50K', '<=50K'], yticklabels=['>50K', '<=50K'], vmin=0., vmax=1., annot=True)\n",
    "plt.title('Confusion Matrix')\n",
    "plt.ylabel('True label')\n",
    "plt.xlabel('Predicted label')\n",
    "#plt.figure()\n",
    "plt.show()"
   ]
  },
  {
   "cell_type": "markdown",
   "metadata": {},
   "source": [
    "#### P%-rule on predictions"
   ]
  },
  {
   "cell_type": "code",
   "execution_count": 46,
   "metadata": {},
   "outputs": [],
   "source": [
    "test_preds = test_s.copy()\n",
    "test_preds['Income'] = pred"
   ]
  },
  {
   "cell_type": "code",
   "execution_count": 47,
   "metadata": {},
   "outputs": [
    {
     "name": "stdout",
     "output_type": "stream",
     "text": [
      "Number of Females in the positive class (>50K): 9\n",
      "Percentage of Females in the positive class (>50K): 0.18%\n",
      "\n",
      "Number of Males in the positive class (>50K): 2123\n",
      "Percentage of Males in the positive class (>50K): 20.92%\n",
      "\n",
      "Training set p-rule: 0.88%\n"
     ]
    }
   ],
   "source": [
    "p_rule([test_preds])"
   ]
  },
  {
   "cell_type": "markdown",
   "metadata": {},
   "source": [
    "#### Disparate Mistreatment"
   ]
  },
  {
   "cell_type": "code",
   "execution_count": 48,
   "metadata": {},
   "outputs": [
    {
     "name": "stdout",
     "output_type": "stream",
     "text": [
      "\n",
      "--- Disparate Mistreatment ---\n",
      "# protected False Positive Rate: 0.00\n",
      "# unprotected False Positive Rate: 0.18\n",
      "\n",
      "# protected False Negative Rate: 0.99\n",
      "# unprotected False Negative Rate: 0.72\n",
      "\n",
      "# protected False Omission Rate: 0.00\n",
      "# unprotected False Omission Rate: 0.15\n",
      "\n",
      "# protected False Discovery Rate: 61.44\n",
      "# unprotected False Discovery Rate: 1.06\n",
      "\n"
     ]
    }
   ],
   "source": [
    "print_disparate_mistreatment_stats(test_features, test_y, pred)"
   ]
  },
  {
   "cell_type": "markdown",
   "metadata": {},
   "source": [
    "### Standardized"
   ]
  },
  {
   "cell_type": "code",
   "execution_count": 49,
   "metadata": {},
   "outputs": [],
   "source": [
    "# Standardizing the training and testing feature variables to achieve zero mean and unit variance.\n",
    "stand_X_train = scale(features)\n",
    "stand_X_test = scale(test_features)"
   ]
  },
  {
   "cell_type": "code",
   "execution_count": 50,
   "metadata": {},
   "outputs": [
    {
     "name": "stdout",
     "output_type": "stream",
     "text": [
      "Accuracy of Logistic Regressor:  0.7364541832669322\n"
     ]
    }
   ],
   "source": [
    "# Creating the logistic regression classifier:\n",
    "log_reg = LogisticRegression(solver='lbfgs', max_iter=5000)\n",
    "\n",
    "# Fitting the training data:\n",
    "fitted = log_reg.fit(stand_X_train, y)\n",
    "\n",
    "# Calculating the class predictions:\n",
    "stand_pred = fitted.predict(stand_X_test)\n",
    "\n",
    "print('Accuracy of Logistic Regressor: ', fitted.score(stand_X_test, test_y))"
   ]
  },
  {
   "cell_type": "code",
   "execution_count": 51,
   "metadata": {},
   "outputs": [
    {
     "data": {
      "image/png": "[encoded data removed]",
      "text/plain": [
       "<Figure size 432x288 with 2 Axes>"
      ]
     },
     "metadata": {
      "needs_background": "light"
     },
     "output_type": "display_data"
    }
   ],
   "source": [
    "# Creating the confusion matrix:\n",
    "cm_norm = confusion_matrix(test_y, stand_pred)/confusion_matrix(test_y, stand_pred).sum(axis=1)[:, np.newaxis]\n",
    "\n",
    "sns.heatmap(cm_norm, xticklabels=['>50K', '<=50K'], yticklabels=['>50K', '<=50K'], vmin=0., vmax=1., annot=True)\n",
    "plt.title('Confusion Matrix')\n",
    "plt.ylabel('True label')\n",
    "plt.xlabel('Predicted label')\n",
    "#plt.figure()\n",
    "plt.show()"
   ]
  },
  {
   "cell_type": "markdown",
   "metadata": {},
   "source": [
    "#### P%-rule on predictions"
   ]
  },
  {
   "cell_type": "code",
   "execution_count": 52,
   "metadata": {},
   "outputs": [],
   "source": [
    "test_preds = test_s.copy()\n",
    "test_preds['Income'] = stand_pred"
   ]
  },
  {
   "cell_type": "code",
   "execution_count": 53,
   "metadata": {},
   "outputs": [
    {
     "name": "stdout",
     "output_type": "stream",
     "text": [
      "Number of Females in the positive class (>50K): 39\n",
      "Percentage of Females in the positive class (>50K): 0.79%\n",
      "\n",
      "Number of Males in the positive class (>50K): 2416\n",
      "Percentage of Males in the positive class (>50K): 23.81%\n",
      "\n",
      "Training set p-rule: 3.33%\n"
     ]
    }
   ],
   "source": [
    "p_rule([test_preds])"
   ]
  },
  {
   "cell_type": "markdown",
   "metadata": {},
   "source": [
    "#### Disaprate Mistreatment"
   ]
  },
  {
   "cell_type": "code",
   "execution_count": 54,
   "metadata": {},
   "outputs": [
    {
     "name": "stdout",
     "output_type": "stream",
     "text": [
      "\n",
      "--- Disparate Mistreatment ---\n",
      "# protected False Positive Rate: 0.01\n",
      "# unprotected False Positive Rate: 0.19\n",
      "\n",
      "# protected False Negative Rate: 0.99\n",
      "# unprotected False Negative Rate: 0.65\n",
      "\n",
      "# protected False Omission Rate: 0.01\n",
      "# unprotected False Omission Rate: 0.17\n",
      "\n",
      "# protected False Discovery Rate: 14.08\n",
      "# unprotected False Discovery Rate: 0.85\n",
      "\n"
     ]
    }
   ],
   "source": [
    "print_disparate_mistreatment_stats(test_features, test_y, stand_pred)"
   ]
  },
  {
   "cell_type": "markdown",
   "metadata": {},
   "source": [
    "## Decision Tree Classifier"
   ]
  },
  {
   "cell_type": "code",
   "execution_count": 55,
   "metadata": {},
   "outputs": [
    {
     "data": {
      "text/plain": [
       "array([0.81054736, 0.80875   , 0.80475   , 0.817     , 0.8105    ,\n",
       "       0.80825   , 0.81075   , 0.815     , 0.81875   , 0.80945236])"
      ]
     },
     "execution_count": 55,
     "metadata": {},
     "output_type": "execute_result"
    }
   ],
   "source": [
    "clf = DecisionTreeClassifier(random_state=0)\n",
    "cross_val_score(clf, features, adult_train_data['Income'], cv=10)"
   ]
  },
  {
   "cell_type": "code",
   "execution_count": 56,
   "metadata": {},
   "outputs": [
    {
     "data": {
      "text/plain": [
       "0.8113749726249981"
      ]
     },
     "execution_count": 56,
     "metadata": {},
     "output_type": "execute_result"
    }
   ],
   "source": [
    "np.mean(cross_val_score(clf, features, adult_train_data['Income'], cv=10))"
   ]
  },
  {
   "cell_type": "code",
   "execution_count": 57,
   "metadata": {},
   "outputs": [
    {
     "data": {
      "text/plain": [
       "array([0.82458771, 0.8105    , 0.8075    , 0.822     , 0.8015    ,\n",
       "       0.814     , 0.8185    , 0.811     , 0.822     , 0.808     ,\n",
       "       0.822     , 0.8135    , 0.812     , 0.8105    , 0.812     ,\n",
       "       0.8205    , 0.805     , 0.8225    , 0.8145    , 0.80990495])"
      ]
     },
     "execution_count": 57,
     "metadata": {},
     "output_type": "execute_result"
    }
   ],
   "source": [
    "clf = DecisionTreeClassifier(random_state=0)\n",
    "cross_val_score(clf, features, adult_train_data['Income'], cv=20)"
   ]
  },
  {
   "cell_type": "code",
   "execution_count": 58,
   "metadata": {},
   "outputs": [
    {
     "data": {
      "text/plain": [
       "0.8140996329311582"
      ]
     },
     "execution_count": 58,
     "metadata": {},
     "output_type": "execute_result"
    }
   ],
   "source": [
    "np.mean(cross_val_score(clf, features, adult_train_data['Income'], cv=20))"
   ]
  },
  {
   "cell_type": "markdown",
   "metadata": {},
   "source": [
    "## Random Forest Classifier"
   ]
  },
  {
   "cell_type": "code",
   "execution_count": 59,
   "metadata": {},
   "outputs": [
    {
     "name": "stdout",
     "output_type": "stream",
     "text": [
      "Accuracy of random forest classifier on the training set:  0.920825\n",
      "Accuracy of random forest classifier on the testing set:  0.7440239043824701\n"
     ]
    }
   ],
   "source": [
    "# Creating the Random Forest Classifier:\n",
    "rfc = RandomForestClassifier(n_estimators=500, random_state=42, criterion='entropy', max_depth=20)\n",
    "\n",
    "# Fitting the training data:\n",
    "rfc_fitted = rfc.fit(features, y)\n",
    "\n",
    "# Extracting the feature importances:\n",
    "feature_importances = rfc_fitted.feature_importances_\n",
    "\n",
    "# Displaying the training and test set accuracies:\n",
    "print('Accuracy of random forest classifier on the training set: ', rfc_fitted.score(features, y))\n",
    "print('Accuracy of random forest classifier on the testing set: ', rfc_fitted.score(test_features, test_y))"
   ]
  },
  {
   "cell_type": "markdown",
   "metadata": {},
   "source": [
    "### Feature importance"
   ]
  },
  {
   "cell_type": "code",
   "execution_count": 60,
   "metadata": {},
   "outputs": [
    {
     "name": "stdout",
     "output_type": "stream",
     "text": [
      "Top 10 features according to the Random Forest Classifier:\n"
     ]
    },
    {
     "data": {
      "text/html": [
       "<div>\n",
       "<style scoped>\n",
       "    .dataframe tbody tr th:only-of-type {\n",
       "        vertical-align: middle;\n",
       "    }\n",
       "\n",
       "    .dataframe tbody tr th {\n",
       "        vertical-align: top;\n",
       "    }\n",
       "\n",
       "    .dataframe thead th {\n",
       "        text-align: right;\n",
       "    }\n",
       "</style>\n",
       "<table border=\"1\" class=\"dataframe\">\n",
       "  <thead>\n",
       "    <tr style=\"text-align: right;\">\n",
       "      <th></th>\n",
       "      <th>Importance</th>\n",
       "    </tr>\n",
       "  </thead>\n",
       "  <tbody>\n",
       "    <tr>\n",
       "      <th>(age,)</th>\n",
       "      <td>0.166195</td>\n",
       "    </tr>\n",
       "    <tr>\n",
       "      <th>(hours_per_week,)</th>\n",
       "      <td>0.097608</td>\n",
       "    </tr>\n",
       "    <tr>\n",
       "      <th>(relationship_Husband,)</th>\n",
       "      <td>0.085868</td>\n",
       "    </tr>\n",
       "    <tr>\n",
       "      <th>(marital_status_Never-married,)</th>\n",
       "      <td>0.044802</td>\n",
       "    </tr>\n",
       "    <tr>\n",
       "      <th>(education_num,)</th>\n",
       "      <td>0.041929</td>\n",
       "    </tr>\n",
       "    <tr>\n",
       "      <th>(occupation_Handlers-cleaners,)</th>\n",
       "      <td>0.041549</td>\n",
       "    </tr>\n",
       "    <tr>\n",
       "      <th>(occupation_Prof-specialty,)</th>\n",
       "      <td>0.032457</td>\n",
       "    </tr>\n",
       "    <tr>\n",
       "      <th>(marital_status_Married-civ-spouse,)</th>\n",
       "      <td>0.032029</td>\n",
       "    </tr>\n",
       "    <tr>\n",
       "      <th>(relationship_Not-in-family,)</th>\n",
       "      <td>0.025586</td>\n",
       "    </tr>\n",
       "    <tr>\n",
       "      <th>(occupation_Transport-moving,)</th>\n",
       "      <td>0.023632</td>\n",
       "    </tr>\n",
       "  </tbody>\n",
       "</table>\n",
       "</div>"
      ],
      "text/plain": [
       "                                      Importance\n",
       "(age,)                                  0.166195\n",
       "(hours_per_week,)                       0.097608\n",
       "(relationship_Husband,)                 0.085868\n",
       "(marital_status_Never-married,)         0.044802\n",
       "(education_num,)                        0.041929\n",
       "(occupation_Handlers-cleaners,)         0.041549\n",
       "(occupation_Prof-specialty,)            0.032457\n",
       "(marital_status_Married-civ-spouse,)    0.032029\n",
       "(relationship_Not-in-family,)           0.025586\n",
       "(occupation_Transport-moving,)          0.023632"
      ]
     },
     "metadata": {},
     "output_type": "display_data"
    }
   ],
   "source": [
    "# Creating and displaying a dataframe for the top 10 most important features:\n",
    "feature_importances_df = pd.DataFrame(data = np.array(feature_importances).T, index = features.columns[np.newaxis].T, columns = ['Importance'])\n",
    "feature_importances_df = feature_importances_df.sort_values(['Importance'], ascending = False)\n",
    "print('Top 10 features according to the Random Forest Classifier:')\n",
    "display(feature_importances_df.iloc[0:10])"
   ]
  },
  {
   "cell_type": "markdown",
   "metadata": {},
   "source": [
    "## Neural Networks (Multi-Layer Perceptron)"
   ]
  },
  {
   "cell_type": "code",
   "execution_count": 61,
   "metadata": {},
   "outputs": [],
   "source": [
    "clf = MLPClassifier()"
   ]
  },
  {
   "cell_type": "code",
   "execution_count": 62,
   "metadata": {},
   "outputs": [
    {
     "data": {
      "text/plain": [
       "{'activation': 'relu',\n",
       " 'alpha': 0.0001,\n",
       " 'batch_size': 'auto',\n",
       " 'beta_1': 0.9,\n",
       " 'beta_2': 0.999,\n",
       " 'early_stopping': False,\n",
       " 'epsilon': 1e-08,\n",
       " 'hidden_layer_sizes': (100,),\n",
       " 'learning_rate': 'constant',\n",
       " 'learning_rate_init': 0.001,\n",
       " 'max_iter': 200,\n",
       " 'momentum': 0.9,\n",
       " 'nesterovs_momentum': True,\n",
       " 'power_t': 0.5,\n",
       " 'random_state': None,\n",
       " 'shuffle': True,\n",
       " 'solver': 'adam',\n",
       " 'tol': 0.0001,\n",
       " 'validation_fraction': 0.1,\n",
       " 'verbose': False,\n",
       " 'warm_start': False}"
      ]
     },
     "execution_count": 62,
     "metadata": {},
     "output_type": "execute_result"
    }
   ],
   "source": [
    "clf.get_params()"
   ]
  },
  {
   "cell_type": "code",
   "execution_count": 63,
   "metadata": {
    "scrolled": true
   },
   "outputs": [
    {
     "data": {
      "text/plain": [
       "MLPClassifier(activation='relu', alpha=0.0001, batch_size='auto', beta_1=0.9,\n",
       "       beta_2=0.999, early_stopping=False, epsilon=1e-08,\n",
       "       hidden_layer_sizes=(100,), learning_rate='constant',\n",
       "       learning_rate_init=0.001, max_iter=200, momentum=0.9,\n",
       "       nesterovs_momentum=True, power_t=0.5, random_state=None,\n",
       "       shuffle=True, solver='adam', tol=0.0001, validation_fraction=0.1,\n",
       "       verbose=False, warm_start=False)"
      ]
     },
     "execution_count": 63,
     "metadata": {},
     "output_type": "execute_result"
    }
   ],
   "source": [
    "clf.fit(features, y)"
   ]
  },
  {
   "cell_type": "code",
   "execution_count": 64,
   "metadata": {},
   "outputs": [],
   "source": [
    "test_pred = clf.predict(test_features)"
   ]
  },
  {
   "cell_type": "code",
   "execution_count": 65,
   "metadata": {},
   "outputs": [
    {
     "data": {
      "text/plain": [
       "0.7284196547144755"
      ]
     },
     "execution_count": 65,
     "metadata": {},
     "output_type": "execute_result"
    }
   ],
   "source": [
    "clf.score(test_features, test_y)"
   ]
  },
  {
   "cell_type": "code",
   "execution_count": 66,
   "metadata": {},
   "outputs": [],
   "source": [
    "test_preds = test_s.copy()\n",
    "test_preds['Income'] = test_pred"
   ]
  },
  {
   "cell_type": "code",
   "execution_count": 67,
   "metadata": {},
   "outputs": [
    {
     "name": "stdout",
     "output_type": "stream",
     "text": [
      "Number of Females in the positive class (>50K): 6\n",
      "Percentage of Females in the positive class (>50K): 0.12%\n",
      "\n",
      "Number of Males in the positive class (>50K): 1456\n",
      "Percentage of Males in the positive class (>50K): 14.35%\n",
      "\n",
      "Training set p-rule: 0.85%\n"
     ]
    }
   ],
   "source": [
    "p_rule([test_preds])"
   ]
  }
 ],
 "metadata": {
  "anaconda-cloud": {},
  "kernelspec": {
   "display_name": "Python 3",
   "language": "python",
   "name": "python3"
  },
  "language_info": {
   "codemirror_mode": {
    "name": "ipython",
    "version": 3
   },
   "file_extension": ".py",
   "mimetype": "text/x-python",
   "name": "python",
   "nbconvert_exporter": "python",
   "pygments_lexer": "ipython3",
   "version": "3.7.2"
  }
 },
 "nbformat": 4,
 "nbformat_minor": 1
}
